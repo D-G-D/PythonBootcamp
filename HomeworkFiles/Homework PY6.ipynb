{
 "cells": [
  {
   "cell_type": "markdown",
   "id": "b47e9bfe",
   "metadata": {},
   "source": [
    "# Homework 6"
   ]
  },
  {
   "cell_type": "code",
   "execution_count": 1,
   "id": "48fdef4f",
   "metadata": {},
   "outputs": [
    {
     "name": "stdout",
     "output_type": "stream",
     "text": [
      "\n",
      "What is your height? (in m) 1.7\n",
      "\n",
      "What is your weight? (in kg) 70\n",
      "Your BMI is 24.2, so you are classified as normal weight\n"
     ]
    }
   ],
   "source": [
    "def categorize(h, w):\n",
    "    bmi = w/(h**2)\n",
    "    if bmi >= 30.0:\n",
    "        return bmi, 'obese'\n",
    "    elif bmi >= 25.0:\n",
    "        return bmi, 'overweight'\n",
    "    elif bmi >= 18.5:\n",
    "        return bmi, 'normal weight'\n",
    "    else:\n",
    "        return bmi, 'underweight'\n",
    "h = float(input('\\nWhat is your height? (in m) '))\n",
    "w = float(input('\\nWhat is your weight? (in kg) '))\n",
    "[bmi, category] = categorize(h, w)\n",
    "print('Your BMI is ' + str(round(bmi,1)) + ', so you are classified as ' + category)"
   ]
  },
  {
   "cell_type": "code",
   "execution_count": 2,
   "id": "99cf5f74",
   "metadata": {},
   "outputs": [
    {
     "name": "stdout",
     "output_type": "stream",
     "text": [
      "\n",
      "What is your height? (in m) 1.7\n",
      "\n",
      "What is your weight? (in kg) 70\n",
      "Your BMI is 24.2, so you are classified as normal weight\n"
     ]
    }
   ],
   "source": [
    "def categorize(h, w):\n",
    "    bmi = float(w)/(float(h)**2)\n",
    "    if bmi >= 30.0:\n",
    "        return bmi, 'obese'\n",
    "    elif bmi >= 25.0:\n",
    "        return bmi, 'overweight'\n",
    "    elif bmi >= 18.5:\n",
    "        return bmi, 'normal weight'\n",
    "    else:\n",
    "        return bmi, 'underweight'\n",
    "h = input('\\nWhat is your height? (in m) ')\n",
    "w = input('\\nWhat is your weight? (in kg) ')\n",
    "[bmi, category] = categorize(h, w)\n",
    "print('Your BMI is ' + str(round(bmi,1)) + ', so you are classified as ' + category)"
   ]
  },
  {
   "cell_type": "code",
   "execution_count": null,
   "id": "60b56d02",
   "metadata": {},
   "outputs": [],
   "source": []
  }
 ],
 "metadata": {
  "kernelspec": {
   "display_name": "Python 3 (ipykernel)",
   "language": "python",
   "name": "python3"
  },
  "language_info": {
   "codemirror_mode": {
    "name": "ipython",
    "version": 3
   },
   "file_extension": ".py",
   "mimetype": "text/x-python",
   "name": "python",
   "nbconvert_exporter": "python",
   "pygments_lexer": "ipython3",
   "version": "3.11.5"
  }
 },
 "nbformat": 4,
 "nbformat_minor": 5
}
