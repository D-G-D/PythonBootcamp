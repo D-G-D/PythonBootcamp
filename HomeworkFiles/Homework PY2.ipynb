{
 "cells": [
  {
   "cell_type": "markdown",
   "id": "b45779cc",
   "metadata": {},
   "source": [
    "# Homework 2"
   ]
  },
  {
   "cell_type": "markdown",
   "id": "c9ec25d0",
   "metadata": {},
   "source": [
    "---\n",
    "1. Calculate the square root of 2 and take the square of it. Do you get 2? Why?"
   ]
  },
  {
   "cell_type": "code",
   "execution_count": 1,
   "id": "62c15cbb",
   "metadata": {},
   "outputs": [
    {
     "data": {
      "text/plain": [
       "2.0000000000000004"
      ]
     },
     "execution_count": 1,
     "metadata": {},
     "output_type": "execute_result"
    }
   ],
   "source": [
    "from math import sqrt\n",
    "sqrt(2)**2"
   ]
  },
  {
   "cell_type": "markdown",
   "id": "9be3cada",
   "metadata": {},
   "source": [
    "---\n",
    "2. Evaluate the expressions `1/3 + 1/3 + 1/3 + 1/3 == 4/3` and `1/3 + 1/3 + 1/3 + 1/3 + 1/3 == 5/3`. One is true and the other one is false. Is Python crazy?"
   ]
  },
  {
   "cell_type": "code",
   "execution_count": 2,
   "id": "019c6b60",
   "metadata": {},
   "outputs": [
    {
     "data": {
      "text/plain": [
       "True"
      ]
     },
     "execution_count": 2,
     "metadata": {},
     "output_type": "execute_result"
    }
   ],
   "source": [
    "1/3 + 1/3 + 1/3 + 1/3 == 4/3"
   ]
  },
  {
   "cell_type": "code",
   "execution_count": 3,
   "id": "1c9abc8c",
   "metadata": {},
   "outputs": [
    {
     "data": {
      "text/plain": [
       "False"
      ]
     },
     "execution_count": 3,
     "metadata": {},
     "output_type": "execute_result"
    }
   ],
   "source": [
    "1/3 + 1/3 + 1/3 + 1/3 + 1/3 == 5/3"
   ]
  },
  {
   "cell_type": "code",
   "execution_count": 4,
   "id": "02b83edf",
   "metadata": {},
   "outputs": [
    {
     "data": {
      "text/plain": [
       "1.6666666666666665"
      ]
     },
     "execution_count": 4,
     "metadata": {},
     "output_type": "execute_result"
    }
   ],
   "source": [
    "1/3 + 1/3 + 1/3 + 1/3 + 1/3"
   ]
  },
  {
   "cell_type": "code",
   "execution_count": 5,
   "id": "70bcd4a5",
   "metadata": {},
   "outputs": [
    {
     "data": {
      "text/plain": [
       "1.6666666666666667"
      ]
     },
     "execution_count": 5,
     "metadata": {},
     "output_type": "execute_result"
    }
   ],
   "source": [
    "5/3"
   ]
  },
  {
   "cell_type": "code",
   "execution_count": 6,
   "id": "af7154d0",
   "metadata": {},
   "outputs": [
    {
     "data": {
      "text/plain": [
       "True"
      ]
     },
     "execution_count": 6,
     "metadata": {},
     "output_type": "execute_result"
    }
   ],
   "source": [
    "round(1/3 + 1/3 + 1/3 + 1/3 + 1/3, 8) == round(5/3, 8)"
   ]
  },
  {
   "cell_type": "markdown",
   "id": "96816d33",
   "metadata": {},
   "source": [
    "---\n",
    "3. Write a string that is lower than any other string."
   ]
  },
  {
   "cell_type": "code",
   "execution_count": 7,
   "id": "fc2be762",
   "metadata": {},
   "outputs": [
    {
     "data": {
      "text/plain": [
       "True"
      ]
     },
     "execution_count": 7,
     "metadata": {},
     "output_type": "execute_result"
    }
   ],
   "source": [
    "'abc' < 'xyz'"
   ]
  },
  {
   "cell_type": "markdown",
   "id": "3038f6c4",
   "metadata": {},
   "source": [
    "---\n",
    "4. You will probably agree that $3 + (4 \\times 5) = 23$ and $(3 + 4) \\times 5 = 35$, and that the first identity can be written as $3 + 4 \\times 5 = 23$, so the parenthesis is not needed, because it is understood that the product takes **precedence** over the sum. Now, what is `True or True and False`? Which operator has precedence, `and` or `or`? Another one: what is `not False or True`?"
   ]
  },
  {
   "cell_type": "code",
   "execution_count": 8,
   "id": "5a1c6ad1",
   "metadata": {},
   "outputs": [
    {
     "data": {
      "text/plain": [
       "True"
      ]
     },
     "execution_count": 8,
     "metadata": {},
     "output_type": "execute_result"
    }
   ],
   "source": [
    "True or True and False"
   ]
  },
  {
   "cell_type": "code",
   "execution_count": 9,
   "id": "986302f8",
   "metadata": {},
   "outputs": [
    {
     "data": {
      "text/plain": [
       "True"
      ]
     },
     "execution_count": 9,
     "metadata": {},
     "output_type": "execute_result"
    }
   ],
   "source": [
    "not False or True"
   ]
  },
  {
   "cell_type": "markdown",
   "id": "0208740c",
   "metadata": {},
   "source": [
    "1. Not\n",
    "2. And\n",
    "3. Or"
   ]
  },
  {
   "cell_type": "markdown",
   "id": "c8adcbe9",
   "metadata": {},
   "source": [
    "---\n",
    "5. Which type have `True*True` and `True/True?` What is the rule?\n"
   ]
  },
  {
   "cell_type": "code",
   "execution_count": 10,
   "id": "015d86f0",
   "metadata": {},
   "outputs": [
    {
     "data": {
      "text/plain": [
       "1"
      ]
     },
     "execution_count": 10,
     "metadata": {},
     "output_type": "execute_result"
    }
   ],
   "source": [
    "True*True"
   ]
  },
  {
   "cell_type": "code",
   "execution_count": 11,
   "id": "96c666f2",
   "metadata": {},
   "outputs": [
    {
     "data": {
      "text/plain": [
       "int"
      ]
     },
     "execution_count": 11,
     "metadata": {},
     "output_type": "execute_result"
    }
   ],
   "source": [
    "type(True*True)"
   ]
  },
  {
   "cell_type": "code",
   "execution_count": 12,
   "id": "0f428324",
   "metadata": {},
   "outputs": [
    {
     "data": {
      "text/plain": [
       "1.0"
      ]
     },
     "execution_count": 12,
     "metadata": {},
     "output_type": "execute_result"
    }
   ],
   "source": [
    "True/True"
   ]
  },
  {
   "cell_type": "code",
   "execution_count": 13,
   "id": "58d978e1",
   "metadata": {},
   "outputs": [
    {
     "data": {
      "text/plain": [
       "2.0"
      ]
     },
     "execution_count": 13,
     "metadata": {},
     "output_type": "execute_result"
    }
   ],
   "source": [
    "2/True"
   ]
  },
  {
   "cell_type": "code",
   "execution_count": 14,
   "id": "5f49c489",
   "metadata": {},
   "outputs": [
    {
     "data": {
      "text/plain": [
       "float"
      ]
     },
     "execution_count": 14,
     "metadata": {},
     "output_type": "execute_result"
    }
   ],
   "source": [
    "type(True/True)"
   ]
  },
  {
   "cell_type": "code",
   "execution_count": 15,
   "id": "0a9f72a8",
   "metadata": {},
   "outputs": [
    {
     "data": {
      "text/plain": [
       "float"
      ]
     },
     "execution_count": 15,
     "metadata": {},
     "output_type": "execute_result"
    }
   ],
   "source": [
    "type(4/2)"
   ]
  },
  {
   "cell_type": "markdown",
   "id": "5333173c",
   "metadata": {},
   "source": [
    "---\n",
    "6. Is `1 == True` true or false? What is the rule? "
   ]
  },
  {
   "cell_type": "code",
   "execution_count": 16,
   "id": "7f91a322",
   "metadata": {},
   "outputs": [
    {
     "data": {
      "text/plain": [
       "True"
      ]
     },
     "execution_count": 16,
     "metadata": {},
     "output_type": "execute_result"
    }
   ],
   "source": [
    "1 == True"
   ]
  },
  {
   "cell_type": "markdown",
   "id": "ce7674c3",
   "metadata": {},
   "source": [
    "---\n",
    "7. Print the following strings with the function `print()`. Some of them will work and some will not. Can you explain the differences?\n",
    "```\n",
    "\"Donald Trump and Joe Biden'\n",
    "\n",
    "'''Donald Trump and Joe Biden'''\n",
    "\n",
    "'Donald Trump \n",
    "and Joe Biden'\n",
    "\n",
    "'Donald Trump\\nand Joe Biden'\n",
    "\n",
    "'Donald Trump \\\n",
    "and Joe Biden'\n",
    "\n",
    "'''Donald Trump\n",
    "and Joe Biden'''\n",
    "```"
   ]
  },
  {
   "cell_type": "code",
   "execution_count": 17,
   "id": "98dff985",
   "metadata": {},
   "outputs": [
    {
     "ename": "SyntaxError",
     "evalue": "unterminated string literal (detected at line 1) (538820703.py, line 1)",
     "output_type": "error",
     "traceback": [
      "\u001b[1;36m  Cell \u001b[1;32mIn[17], line 1\u001b[1;36m\u001b[0m\n\u001b[1;33m    print(\"Donald Trump and Joe Biden')\u001b[0m\n\u001b[1;37m          ^\u001b[0m\n\u001b[1;31mSyntaxError\u001b[0m\u001b[1;31m:\u001b[0m unterminated string literal (detected at line 1)\n"
     ]
    }
   ],
   "source": [
    "print(\"Donald Trump and Joe Biden')"
   ]
  },
  {
   "cell_type": "code",
   "execution_count": 18,
   "id": "1a188b82",
   "metadata": {},
   "outputs": [
    {
     "name": "stdout",
     "output_type": "stream",
     "text": [
      "Donald Trump and Joe Biden\n"
     ]
    }
   ],
   "source": [
    "print('''Donald Trump and Joe Biden''')"
   ]
  },
  {
   "cell_type": "code",
   "execution_count": 19,
   "id": "a44df3bd",
   "metadata": {},
   "outputs": [
    {
     "ename": "SyntaxError",
     "evalue": "unterminated string literal (detected at line 1) (3536105279.py, line 1)",
     "output_type": "error",
     "traceback": [
      "\u001b[1;36m  Cell \u001b[1;32mIn[19], line 1\u001b[1;36m\u001b[0m\n\u001b[1;33m    print('Donald Trump\u001b[0m\n\u001b[1;37m          ^\u001b[0m\n\u001b[1;31mSyntaxError\u001b[0m\u001b[1;31m:\u001b[0m unterminated string literal (detected at line 1)\n"
     ]
    }
   ],
   "source": [
    "print('Donald Trump \n",
    "and Joe Biden')"
   ]
  },
  {
   "cell_type": "code",
   "execution_count": 20,
   "id": "08d03d5e",
   "metadata": {},
   "outputs": [
    {
     "name": "stdout",
     "output_type": "stream",
     "text": [
      "Donald Trump\n",
      "and Joe Biden\n"
     ]
    }
   ],
   "source": [
    "print('Donald Trump\\nand Joe Biden')"
   ]
  },
  {
   "cell_type": "code",
   "execution_count": 21,
   "id": "484ba9fc",
   "metadata": {},
   "outputs": [
    {
     "name": "stdout",
     "output_type": "stream",
     "text": [
      "Donald Trump\n",
      "and Joe Biden\n"
     ]
    }
   ],
   "source": [
    "print('''Donald Trump\n",
    "and Joe Biden''')"
   ]
  },
  {
   "cell_type": "markdown",
   "id": "bda8a6e8",
   "metadata": {},
   "source": [
    "- \" ' need the same type of quotes to close\n",
    "- ' does not recognize new lines, unless marked with \\n\n",
    "- ' ' ' considers new lines"
   ]
  },
  {
   "cell_type": "markdown",
   "id": "3bb2b73b",
   "metadata": {},
   "source": [
    "8. The package `langid` is one of them many options for **language detection** in Python. You can install it entering `pip install langid` in either the shell or the console. Once it has been installed, you can import it and use the function `langid.classify()` to \"detect\" the language. Try this with a few sentences in different languages. Please, note that `langid` gets better with longer strings, but often fails with very short ones. Though it may look like a dwarf when compared to a giant like GPT-4, it is a nice example of **machine learning**."
   ]
  },
  {
   "cell_type": "code",
   "execution_count": 22,
   "id": "1651e098",
   "metadata": {},
   "outputs": [
    {
     "name": "stdout",
     "output_type": "stream",
     "text": [
      "Requirement already satisfied: langid in c:\\users\\dirkg\\anaconda3\\lib\\site-packages (1.1.6)\n",
      "Requirement already satisfied: numpy in c:\\users\\dirkg\\anaconda3\\lib\\site-packages (from langid) (1.24.3)\n",
      "Note: you may need to restart the kernel to use updated packages.\n"
     ]
    }
   ],
   "source": [
    "pip install langid"
   ]
  },
  {
   "cell_type": "code",
   "execution_count": 23,
   "id": "0fe1c50a",
   "metadata": {},
   "outputs": [],
   "source": [
    "import langid\n",
    "import math"
   ]
  },
  {
   "cell_type": "code",
   "execution_count": 24,
   "id": "219bcb25",
   "metadata": {},
   "outputs": [
    {
     "data": {
      "text/plain": [
       "('en', -84.78085374832153)"
      ]
     },
     "execution_count": 24,
     "metadata": {},
     "output_type": "execute_result"
    }
   ],
   "source": [
    "langid.classify(\"Could I have a beer, please?\")"
   ]
  },
  {
   "cell_type": "code",
   "execution_count": 25,
   "id": "0ea9963b",
   "metadata": {},
   "outputs": [
    {
     "data": {
      "text/plain": [
       "('es', -38.10467767715454)"
      ]
     },
     "execution_count": 25,
     "metadata": {},
     "output_type": "execute_result"
    }
   ],
   "source": [
    "langid.classify(\"Una cerveza, por favor\")"
   ]
  },
  {
   "cell_type": "code",
   "execution_count": 26,
   "id": "30605f40",
   "metadata": {},
   "outputs": [
    {
     "data": {
      "text/plain": [
       "('de', -45.87535095214844)"
      ]
     },
     "execution_count": 26,
     "metadata": {},
     "output_type": "execute_result"
    }
   ],
   "source": [
    "langid.classify(\"Ein bier, bitte\")"
   ]
  },
  {
   "cell_type": "markdown",
   "id": "e58ea6a0",
   "metadata": {},
   "source": [
    "https://github.com/saffsd/langid.py"
   ]
  },
  {
   "cell_type": "code",
   "execution_count": 27,
   "id": "16fe96aa",
   "metadata": {},
   "outputs": [],
   "source": [
    "from langid.langid import LanguageIdentifier, model\n",
    "identifier = LanguageIdentifier.from_modelstring(model, norm_probs=True)"
   ]
  },
  {
   "cell_type": "code",
   "execution_count": 28,
   "id": "51634ff7",
   "metadata": {},
   "outputs": [
    {
     "data": {
      "text/plain": [
       "('en', 0.9999999999999016)"
      ]
     },
     "execution_count": 28,
     "metadata": {},
     "output_type": "execute_result"
    }
   ],
   "source": [
    "identifier.classify(\"Could I have a beer, please?\")"
   ]
  },
  {
   "cell_type": "code",
   "execution_count": 29,
   "id": "82ddff31",
   "metadata": {},
   "outputs": [
    {
     "data": {
      "text/plain": [
       "('es', 0.8600003871907596)"
      ]
     },
     "execution_count": 29,
     "metadata": {},
     "output_type": "execute_result"
    }
   ],
   "source": [
    "identifier.classify(\"Una cerveza, por favor\")"
   ]
  },
  {
   "cell_type": "code",
   "execution_count": 30,
   "id": "ab1adb5f",
   "metadata": {},
   "outputs": [
    {
     "data": {
      "text/plain": [
       "('de', 0.9994416916055493)"
      ]
     },
     "execution_count": 30,
     "metadata": {},
     "output_type": "execute_result"
    }
   ],
   "source": [
    "identifier.classify(\"Ein bier, bitte\")"
   ]
  },
  {
   "cell_type": "code",
   "execution_count": null,
   "id": "c5659387",
   "metadata": {},
   "outputs": [],
   "source": []
  }
 ],
 "metadata": {
  "kernelspec": {
   "display_name": "Python 3 (ipykernel)",
   "language": "python",
   "name": "python3"
  },
  "language_info": {
   "codemirror_mode": {
    "name": "ipython",
    "version": 3
   },
   "file_extension": ".py",
   "mimetype": "text/x-python",
   "name": "python",
   "nbconvert_exporter": "python",
   "pygments_lexer": "ipython3",
   "version": "3.11.5"
  }
 },
 "nbformat": 4,
 "nbformat_minor": 5
}
