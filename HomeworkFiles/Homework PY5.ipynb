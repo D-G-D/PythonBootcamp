{
 "cells": [
  {
   "cell_type": "markdown",
   "id": "8a0a3b4b",
   "metadata": {},
   "source": [
    "# Homework 5"
   ]
  },
  {
   "cell_type": "markdown",
   "id": "eb9ed36f",
   "metadata": {},
   "source": [
    "1. The **body mass index** (BMI) is defined as the body mass (kg) divided by the square of the body height (m2). It is used to broadly categorize a major adult person as underweight (under 18.5 kg/m2), normal weight (18.5 to 24.9), overweight (25 to 29.9), or obese (30 or more), or obese. Write a function that takes the heigh and weight of a person, in the adequate units, and returns the categorization underweight/normal weight/overweight/obese."
   ]
  },
  {
   "cell_type": "code",
   "execution_count": 1,
   "id": "201a6b3b",
   "metadata": {},
   "outputs": [],
   "source": [
    "def categorize(h, w):\n",
    "    bmi = w/(h**2)\n",
    "    print(str(round(bmi,2)))\n",
    "    if bmi >= 30.0:\n",
    "        return 'obese'\n",
    "    elif bmi >= 25.0:\n",
    "        return 'overweight'\n",
    "    elif bmi >= 18.5:\n",
    "        return 'normal weight'\n",
    "    else:\n",
    "        return 'underweight'"
   ]
  },
  {
   "cell_type": "code",
   "execution_count": 2,
   "id": "ab516904",
   "metadata": {},
   "outputs": [
    {
     "name": "stdout",
     "output_type": "stream",
     "text": [
      "17.3\n"
     ]
    },
    {
     "data": {
      "text/plain": [
       "'underweight'"
      ]
     },
     "execution_count": 2,
     "metadata": {},
     "output_type": "execute_result"
    }
   ],
   "source": [
    "categorize(1.7, 50)"
   ]
  },
  {
   "cell_type": "code",
   "execution_count": 3,
   "id": "a2df72e3",
   "metadata": {},
   "outputs": [
    {
     "name": "stdout",
     "output_type": "stream",
     "text": [
      "24.22\n"
     ]
    },
    {
     "data": {
      "text/plain": [
       "'normal weight'"
      ]
     },
     "execution_count": 3,
     "metadata": {},
     "output_type": "execute_result"
    }
   ],
   "source": [
    "categorize(1.7, 70)"
   ]
  },
  {
   "cell_type": "code",
   "execution_count": 4,
   "id": "7f00f07a",
   "metadata": {},
   "outputs": [
    {
     "name": "stdout",
     "output_type": "stream",
     "text": [
      "27.68\n"
     ]
    },
    {
     "data": {
      "text/plain": [
       "'overweight'"
      ]
     },
     "execution_count": 4,
     "metadata": {},
     "output_type": "execute_result"
    }
   ],
   "source": [
    "categorize(1.7, 80)"
   ]
  },
  {
   "cell_type": "code",
   "execution_count": 5,
   "id": "fa98ac32",
   "metadata": {},
   "outputs": [
    {
     "name": "stdout",
     "output_type": "stream",
     "text": [
      "31.14\n"
     ]
    },
    {
     "data": {
      "text/plain": [
       "'obese'"
      ]
     },
     "execution_count": 5,
     "metadata": {},
     "output_type": "execute_result"
    }
   ],
   "source": [
    "categorize(1.7, 90)"
   ]
  },
  {
   "cell_type": "markdown",
   "id": "21737f5e",
   "metadata": {},
   "source": [
    "2. In databases, names are usually split in two or more columns. In US, we usually find three columns, such as `firstname`, `midname` and `lastname`. When the name has to be printed, the three pieces are pasted together. Write a function for this job. If the arguments supplied are `firstname='Donald'`, `midname='John'` and `lastname='Trump'`, the function would return `'Donald John Trump'`. But it should work also for the cases in which the middle name is omitted, which is not rare, in particular for foreign people."
   ]
  },
  {
   "cell_type": "code",
   "execution_count": 6,
   "id": "9850eb67",
   "metadata": {},
   "outputs": [],
   "source": [
    "def joint_name(firstname, lastname, midname=None):\n",
    "    if midname is not None:\n",
    "        return firstname + ' ' + midname + ' ' + lastname\n",
    "    else:        \n",
    "        return firstname + ' ' + lastname"
   ]
  },
  {
   "cell_type": "code",
   "execution_count": 7,
   "id": "7fd8bda0",
   "metadata": {},
   "outputs": [
    {
     "data": {
      "text/plain": [
       "'first mid last'"
      ]
     },
     "execution_count": 7,
     "metadata": {},
     "output_type": "execute_result"
    }
   ],
   "source": [
    "joint_name('first', 'last', 'mid')"
   ]
  },
  {
   "cell_type": "code",
   "execution_count": 8,
   "id": "8eed3560",
   "metadata": {},
   "outputs": [
    {
     "data": {
      "text/plain": [
       "'first last'"
      ]
     },
     "execution_count": 8,
     "metadata": {},
     "output_type": "execute_result"
    }
   ],
   "source": [
    "joint_name('first', 'last')"
   ]
  },
  {
   "cell_type": "markdown",
   "id": "c939def6",
   "metadata": {},
   "source": [
    "3. Write a function that, given a list of integers, returns the number of positive terms and the number of negative terms. Modify the definition so the your function returns a dictionary with keys '`positive` and `negative`. So, given the list `[2, 3, -7, 0]`, your function must return `{'positive': 2, 'negative': 1}`"
   ]
  },
  {
   "cell_type": "code",
   "execution_count": 9,
   "id": "13c27170",
   "metadata": {},
   "outputs": [],
   "source": [
    "def list_count(l):\n",
    "    positive = sum([1 for number in l if number > 0])\n",
    "    negative = sum([1 for number in l if number < 0])\n",
    "    return {'positive': positive, 'negative': negative}"
   ]
  },
  {
   "cell_type": "code",
   "execution_count": 10,
   "id": "eaef2b95",
   "metadata": {},
   "outputs": [
    {
     "data": {
      "text/plain": [
       "{'positive': 2, 'negative': 1}"
      ]
     },
     "execution_count": 10,
     "metadata": {},
     "output_type": "execute_result"
    }
   ],
   "source": [
    "list_count([2, 3, -7, 0])"
   ]
  },
  {
   "cell_type": "code",
   "execution_count": 11,
   "id": "c2f870ff",
   "metadata": {},
   "outputs": [],
   "source": [
    "def list_count(l):\n",
    "    positive = 0\n",
    "    negative = 0\n",
    "    for number in l:\n",
    "        if number > 0:\n",
    "            positive = positive + 1\n",
    "        elif number < 0:\n",
    "            negative = negative + 1\n",
    "    return {'positive': positive, 'negative': negative}"
   ]
  },
  {
   "cell_type": "code",
   "execution_count": 12,
   "id": "c52d3fac",
   "metadata": {},
   "outputs": [
    {
     "data": {
      "text/plain": [
       "{'positive': 2, 'negative': 1}"
      ]
     },
     "execution_count": 12,
     "metadata": {},
     "output_type": "execute_result"
    }
   ],
   "source": [
    "list_count([2, 3, -7, 0])"
   ]
  },
  {
   "cell_type": "markdown",
   "id": "bdcf23f6",
   "metadata": {},
   "source": [
    "4. Suppose that you are given an interest rate *r*% for your capital, so that at the end of every year your capital gets a *r*% increase. For instance if the capital is USD 1 and the interest rate is 10\\% (\\`r=0.1\\`), after one year you have USD 1.10, after two years USD 1.21, etc. Write a function that, by using a loop, takes *r* and returns the number of years needed to double it. The solution does not depend on the actual value of the capital, so you set it at USD 1 (this can also be solved mathematically, by using logarithms)."
   ]
  },
  {
   "cell_type": "code",
   "execution_count": 13,
   "id": "c9652e43",
   "metadata": {},
   "outputs": [],
   "source": [
    "def doublecapital(r):\n",
    "    capital = 1.0\n",
    "    years = 0\n",
    "    while(capital < 2.0):\n",
    "        capital = capital * (1+r)\n",
    "        years = years + 1\n",
    "    return years"
   ]
  },
  {
   "cell_type": "code",
   "execution_count": 14,
   "id": "2b5d0d81",
   "metadata": {},
   "outputs": [
    {
     "data": {
      "text/plain": [
       "8"
      ]
     },
     "execution_count": 14,
     "metadata": {},
     "output_type": "execute_result"
    }
   ],
   "source": [
    "doublecapital(0.1)"
   ]
  },
  {
   "cell_type": "markdown",
   "id": "010a8b55",
   "metadata": {},
   "source": [
    "5. The **Fibonacci numbers** are 1, 1, 2, 3, 5, 8, 13, 21, etc. Except for the first two terms of this sequence, both equal to 1, every term is the sum of the two preceding terms. Use a loop to calculate the first 10 Fibonacci numbers. Based on that loop, write a function which, given a number, returns a list of Fibonacci numbers of that length."
   ]
  },
  {
   "cell_type": "code",
   "execution_count": 15,
   "id": "94e9f314",
   "metadata": {},
   "outputs": [],
   "source": [
    "def fibonacci(n):\n",
    "    fib = []\n",
    "    for i in range(n):\n",
    "        if i < 2:\n",
    "            fib = fib[:] + [1]\n",
    "        else:\n",
    "            fib = fib[:] + [fib[-1] + fib[-2]]\n",
    "    return fib"
   ]
  },
  {
   "cell_type": "code",
   "execution_count": 16,
   "id": "54a331ba",
   "metadata": {},
   "outputs": [
    {
     "data": {
      "text/plain": [
       "[1, 1, 2, 3, 5, 8, 13, 21, 34, 55]"
      ]
     },
     "execution_count": 16,
     "metadata": {},
     "output_type": "execute_result"
    }
   ],
   "source": [
    "fibonacci(10)"
   ]
  },
  {
   "cell_type": "markdown",
   "id": "6c897955",
   "metadata": {},
   "source": [
    "6. A **prime** is a positive integer greater than 1 that is not a product of two smaller positive integers. Starting with a list `primes = [2]`, use a loop for building the list of primes lower than 100. The number 100 of course can be replaced ny any other number, so yopu would be probably be able to write a function that takes an integer `n` and returns the numer of primes lower than `n`."
   ]
  },
  {
   "cell_type": "code",
   "execution_count": 17,
   "id": "f8a587c3",
   "metadata": {},
   "outputs": [],
   "source": [
    "def primes(n):\n",
    "    numbers = []\n",
    "    for i in range(2, n+1):\n",
    "        prime = True\n",
    "        for j in range(2,i):\n",
    "            if i%j == 0:\n",
    "                prime = False\n",
    "        if prime:\n",
    "            numbers = numbers + [i]\n",
    "    return numbers  "
   ]
  },
  {
   "cell_type": "code",
   "execution_count": 18,
   "id": "d1de19ea",
   "metadata": {
    "scrolled": true
   },
   "outputs": [
    {
     "data": {
      "text/plain": [
       "[2, 3, 5, 7, 11, 13, 17, 19]"
      ]
     },
     "execution_count": 18,
     "metadata": {},
     "output_type": "execute_result"
    }
   ],
   "source": [
    "primes(20)"
   ]
  },
  {
   "cell_type": "code",
   "execution_count": 19,
   "id": "434e7660",
   "metadata": {},
   "outputs": [],
   "source": [
    "def primes(n):\n",
    "    numbers = []\n",
    "    for i in range(2, n+1):\n",
    "        prime = True\n",
    "        j = 2\n",
    "        while prime and j < i:\n",
    "            if i%j == 0:\n",
    "                prime = False\n",
    "            else:\n",
    "                j = j + 1\n",
    "        if prime:\n",
    "            numbers = numbers + [i]\n",
    "    return numbers  "
   ]
  },
  {
   "cell_type": "code",
   "execution_count": 20,
   "id": "d68adc2b",
   "metadata": {
    "scrolled": true
   },
   "outputs": [
    {
     "data": {
      "text/plain": [
       "[2, 3, 5, 7, 11, 13, 17, 19]"
      ]
     },
     "execution_count": 20,
     "metadata": {},
     "output_type": "execute_result"
    }
   ],
   "source": [
    "primes(20)"
   ]
  },
  {
   "cell_type": "code",
   "execution_count": 21,
   "id": "9099fec1",
   "metadata": {},
   "outputs": [],
   "source": [
    "def primes(n):\n",
    "    return [i for i in range(2,n+1) if len([j for j in range(2,i) if i%j==0]) == 0]        "
   ]
  },
  {
   "cell_type": "code",
   "execution_count": 22,
   "id": "7024f882",
   "metadata": {
    "scrolled": true
   },
   "outputs": [
    {
     "data": {
      "text/plain": [
       "[2, 3, 5, 7, 11, 13, 17, 19]"
      ]
     },
     "execution_count": 22,
     "metadata": {},
     "output_type": "execute_result"
    }
   ],
   "source": [
    "primes(20)"
   ]
  },
  {
   "cell_type": "code",
   "execution_count": 23,
   "id": "1f050a39",
   "metadata": {},
   "outputs": [
    {
     "data": {
      "text/plain": [
       "[2,\n",
       " 3,\n",
       " 5,\n",
       " 7,\n",
       " 11,\n",
       " 13,\n",
       " 17,\n",
       " 19,\n",
       " 23,\n",
       " 29,\n",
       " 31,\n",
       " 37,\n",
       " 41,\n",
       " 43,\n",
       " 47,\n",
       " 53,\n",
       " 59,\n",
       " 61,\n",
       " 67,\n",
       " 71,\n",
       " 73,\n",
       " 79,\n",
       " 83,\n",
       " 89,\n",
       " 97]"
      ]
     },
     "execution_count": 23,
     "metadata": {},
     "output_type": "execute_result"
    }
   ],
   "source": [
    "primes(100)"
   ]
  },
  {
   "cell_type": "markdown",
   "id": "d5a91045",
   "metadata": {},
   "source": [
    "7. Going back to exercise 4 of lecture PY-03, create a list containing the leap years of the 20th century."
   ]
  },
  {
   "cell_type": "code",
   "execution_count": 24,
   "id": "8cbfec14",
   "metadata": {},
   "outputs": [],
   "source": [
    "def leap(y):\n",
    "    return (y%4 == 0) and not (y%100 == 0 and y%400 != 0)"
   ]
  },
  {
   "cell_type": "code",
   "execution_count": 25,
   "id": "ea814b06",
   "metadata": {},
   "outputs": [
    {
     "data": {
      "text/plain": [
       "[1904,\n",
       " 1908,\n",
       " 1912,\n",
       " 1916,\n",
       " 1920,\n",
       " 1924,\n",
       " 1928,\n",
       " 1932,\n",
       " 1936,\n",
       " 1940,\n",
       " 1944,\n",
       " 1948,\n",
       " 1952,\n",
       " 1956,\n",
       " 1960,\n",
       " 1964,\n",
       " 1968,\n",
       " 1972,\n",
       " 1976,\n",
       " 1980,\n",
       " 1984,\n",
       " 1988,\n",
       " 1992,\n",
       " 1996,\n",
       " 2000]"
      ]
     },
     "execution_count": 25,
     "metadata": {},
     "output_type": "execute_result"
    }
   ],
   "source": [
    "leap_years = []\n",
    "for year in range(1901, 2001):\n",
    "    if leap(year):\n",
    "        leap_years = leap_years + [year]\n",
    "leap_years"
   ]
  },
  {
   "cell_type": "markdown",
   "id": "fcde5c3d",
   "metadata": {},
   "source": [
    "8. Write a function that drops the duplicate items from a list, keeping the order. For instance, given the list `['a'. 'f', 'a', 'b']`, that function would return `['a'. 'f', 'b']`.\n"
   ]
  },
  {
   "cell_type": "code",
   "execution_count": 26,
   "id": "434f8df3",
   "metadata": {},
   "outputs": [],
   "source": [
    "def remove_duplicates(letters):\n",
    "    new_list = []\n",
    "    for l in letters:\n",
    "        if l not in new_list:\n",
    "            new_list = new_list + [l]\n",
    "    return new_list"
   ]
  },
  {
   "cell_type": "code",
   "execution_count": 27,
   "id": "12b62e4c",
   "metadata": {},
   "outputs": [
    {
     "data": {
      "text/plain": [
       "['a', 'f', 'b']"
      ]
     },
     "execution_count": 27,
     "metadata": {},
     "output_type": "execute_result"
    }
   ],
   "source": [
    "remove_duplicates(['a', 'f', 'a', 'b'])"
   ]
  },
  {
   "cell_type": "markdown",
   "id": "f8104a9f",
   "metadata": {},
   "source": [
    "9. A **nested list** is a list of lists, that is, a list whose items are lists. For instance, `[[1, 2], [], ['a']]`. Write a function that *flattens* a nested list, transforming it into a new list whose items are the items contained in the items of the original list. Given the above example, that function would return `[1, 2, 'a']`.\n"
   ]
  },
  {
   "cell_type": "code",
   "execution_count": 28,
   "id": "3e1ac08d",
   "metadata": {},
   "outputs": [],
   "source": [
    "def unnest(l):\n",
    "    new_list = []\n",
    "    for a in l:\n",
    "        for b in a:\n",
    "            new_list = new_list + [b]\n",
    "    return new_list"
   ]
  },
  {
   "cell_type": "code",
   "execution_count": 29,
   "id": "f47da9aa",
   "metadata": {},
   "outputs": [
    {
     "data": {
      "text/plain": [
       "[1, 2, 'a']"
      ]
     },
     "execution_count": 29,
     "metadata": {},
     "output_type": "execute_result"
    }
   ],
   "source": [
    "unnest([[1, 2], [], ['a']])"
   ]
  },
  {
   "cell_type": "code",
   "execution_count": 30,
   "id": "c1806648",
   "metadata": {},
   "outputs": [],
   "source": [
    "from itertools import chain\n",
    "def unnest(l):\n",
    "    return list(chain.from_iterable(l))"
   ]
  },
  {
   "cell_type": "code",
   "execution_count": 31,
   "id": "0155c2b4",
   "metadata": {},
   "outputs": [
    {
     "data": {
      "text/plain": [
       "[1, 2, 'a']"
      ]
     },
     "execution_count": 31,
     "metadata": {},
     "output_type": "execute_result"
    }
   ],
   "source": [
    "unnest([[1, 2], [], ['a']])"
   ]
  },
  {
   "cell_type": "markdown",
   "id": "e3a36a98",
   "metadata": {},
   "source": [
    "10. Write a function that combines strings from two lists of the same length, pasting every string from the second list after every string from the first list. For instance, given the lists `['A', 'B']` and `['X', 'Y']`, that function would return the list `['AX', 'AY', 'BX', 'BY']`."
   ]
  },
  {
   "cell_type": "code",
   "execution_count": 32,
   "id": "b286a725",
   "metadata": {},
   "outputs": [],
   "source": [
    "def merge_lists(a, b):\n",
    "    merged = []\n",
    "    for x in a:\n",
    "        for y in b:\n",
    "            merged = merged + [x+y]\n",
    "    return merged"
   ]
  },
  {
   "cell_type": "code",
   "execution_count": 33,
   "id": "1ed6cb1c",
   "metadata": {},
   "outputs": [
    {
     "data": {
      "text/plain": [
       "['AX', 'AY', 'BX', 'BY']"
      ]
     },
     "execution_count": 33,
     "metadata": {},
     "output_type": "execute_result"
    }
   ],
   "source": [
    "merge_lists(['A', 'B'], ['X', 'Y'])"
   ]
  },
  {
   "cell_type": "code",
   "execution_count": 34,
   "id": "86e00ad3",
   "metadata": {},
   "outputs": [],
   "source": [
    "def merge_lists(a, b):\n",
    "    return [x+y for x in a for y in b]"
   ]
  },
  {
   "cell_type": "code",
   "execution_count": 35,
   "id": "ce33413f",
   "metadata": {},
   "outputs": [
    {
     "data": {
      "text/plain": [
       "['AX', 'AY', 'BX', 'BY']"
      ]
     },
     "execution_count": 35,
     "metadata": {},
     "output_type": "execute_result"
    }
   ],
   "source": [
    "merge_lists(['A', 'B'], ['X', 'Y'])"
   ]
  }
 ],
 "metadata": {
  "kernelspec": {
   "display_name": "Python 3 (ipykernel)",
   "language": "python",
   "name": "python3"
  },
  "language_info": {
   "codemirror_mode": {
    "name": "ipython",
    "version": 3
   },
   "file_extension": ".py",
   "mimetype": "text/x-python",
   "name": "python",
   "nbconvert_exporter": "python",
   "pygments_lexer": "ipython3",
   "version": "3.11.5"
  }
 },
 "nbformat": 4,
 "nbformat_minor": 5
}
