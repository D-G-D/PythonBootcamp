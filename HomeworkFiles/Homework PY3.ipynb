{
 "cells": [
  {
   "cell_type": "markdown",
   "id": "0ff2c470",
   "metadata": {},
   "source": [
    "# Homework 3"
   ]
  },
  {
   "cell_type": "markdown",
   "id": "3d3c9a06",
   "metadata": {},
   "source": [
    "1. Write a Python function which, given three integers, returns `True` if any of them is zero, and `False` otherwise.\n"
   ]
  },
  {
   "cell_type": "markdown",
   "id": "85ffbd66",
   "metadata": {},
   "source": [
    "Tip: Don't jump into conclusions. First, understand what do we want to do. "
   ]
  },
  {
   "cell_type": "code",
   "execution_count": 1,
   "id": "db10f670",
   "metadata": {},
   "outputs": [],
   "source": [
    "def anyzeros(i, j, k):\n",
    "    return i==0 or j==0 or k==0"
   ]
  },
  {
   "cell_type": "markdown",
   "id": "27c2fa47",
   "metadata": {},
   "source": [
    "Uni-tests:"
   ]
  },
  {
   "cell_type": "code",
   "execution_count": 2,
   "id": "78aeac69",
   "metadata": {},
   "outputs": [
    {
     "data": {
      "text/plain": [
       "False"
      ]
     },
     "execution_count": 2,
     "metadata": {},
     "output_type": "execute_result"
    }
   ],
   "source": [
    "anyzeros(1, 3, -1)"
   ]
  },
  {
   "cell_type": "code",
   "execution_count": 3,
   "id": "80c77427",
   "metadata": {},
   "outputs": [
    {
     "data": {
      "text/plain": [
       "True"
      ]
     },
     "execution_count": 3,
     "metadata": {},
     "output_type": "execute_result"
    }
   ],
   "source": [
    "anyzeros(0, 3, -1)"
   ]
  },
  {
   "cell_type": "code",
   "execution_count": 4,
   "id": "07c41977",
   "metadata": {},
   "outputs": [
    {
     "data": {
      "text/plain": [
       "True"
      ]
     },
     "execution_count": 4,
     "metadata": {},
     "output_type": "execute_result"
    }
   ],
   "source": [
    "anyzeros(8, 0, -1)"
   ]
  },
  {
   "cell_type": "code",
   "execution_count": 5,
   "id": "8018b398",
   "metadata": {},
   "outputs": [
    {
     "data": {
      "text/plain": [
       "True"
      ]
     },
     "execution_count": 5,
     "metadata": {},
     "output_type": "execute_result"
    }
   ],
   "source": [
    "anyzeros(8, 7, 0)"
   ]
  },
  {
   "cell_type": "code",
   "execution_count": 6,
   "id": "58f51975",
   "metadata": {},
   "outputs": [
    {
     "data": {
      "text/plain": [
       "True"
      ]
     },
     "execution_count": 6,
     "metadata": {},
     "output_type": "execute_result"
    }
   ],
   "source": [
    "anyzeros(1, 0, 0)"
   ]
  },
  {
   "cell_type": "code",
   "execution_count": 7,
   "id": "1f8cdca3",
   "metadata": {},
   "outputs": [
    {
     "data": {
      "text/plain": [
       "True"
      ]
     },
     "execution_count": 7,
     "metadata": {},
     "output_type": "execute_result"
    }
   ],
   "source": [
    "anyzeros(0, 0, 0)"
   ]
  },
  {
   "cell_type": "markdown",
   "id": "fd9cb4d1",
   "metadata": {},
   "source": [
    "2. Write a Python function which, given three integers, returns `True` if they are in order from smallest to largest, and `False` otherwise. Modify your function so that it returns `1`/`0` instead of `True`/`False`."
   ]
  },
  {
   "cell_type": "code",
   "execution_count": 8,
   "id": "546fb93c",
   "metadata": {},
   "outputs": [],
   "source": [
    "def ascending(i, j, k):\n",
    "    return i<=j and j<=k"
   ]
  },
  {
   "cell_type": "code",
   "execution_count": 9,
   "id": "4c1bb5ba",
   "metadata": {},
   "outputs": [
    {
     "data": {
      "text/plain": [
       "False"
      ]
     },
     "execution_count": 9,
     "metadata": {},
     "output_type": "execute_result"
    }
   ],
   "source": [
    "ascending(1, 3, -1)"
   ]
  },
  {
   "cell_type": "code",
   "execution_count": 10,
   "id": "dd9afedc",
   "metadata": {},
   "outputs": [
    {
     "data": {
      "text/plain": [
       "True"
      ]
     },
     "execution_count": 10,
     "metadata": {},
     "output_type": "execute_result"
    }
   ],
   "source": [
    "ascending(1, 2, 3)"
   ]
  },
  {
   "cell_type": "code",
   "execution_count": 11,
   "id": "99ffe07a",
   "metadata": {},
   "outputs": [
    {
     "data": {
      "text/plain": [
       "True"
      ]
     },
     "execution_count": 11,
     "metadata": {},
     "output_type": "execute_result"
    }
   ],
   "source": [
    "ascending(0, 0, 1)"
   ]
  },
  {
   "cell_type": "code",
   "execution_count": 12,
   "id": "1621a250",
   "metadata": {},
   "outputs": [
    {
     "data": {
      "text/plain": [
       "True"
      ]
     },
     "execution_count": 12,
     "metadata": {},
     "output_type": "execute_result"
    }
   ],
   "source": [
    "ascending(-3, -2, -1)"
   ]
  },
  {
   "cell_type": "code",
   "execution_count": 13,
   "id": "32d3b3f5",
   "metadata": {},
   "outputs": [],
   "source": [
    "def ascending_int(i, j, k):\n",
    "    return (i<=j and j<=k)*1"
   ]
  },
  {
   "cell_type": "code",
   "execution_count": 14,
   "id": "ea93d7b9",
   "metadata": {},
   "outputs": [
    {
     "data": {
      "text/plain": [
       "0"
      ]
     },
     "execution_count": 14,
     "metadata": {},
     "output_type": "execute_result"
    }
   ],
   "source": [
    "ascending_int(1, 3, -1)"
   ]
  },
  {
   "cell_type": "code",
   "execution_count": 15,
   "id": "42f766e7",
   "metadata": {},
   "outputs": [
    {
     "data": {
      "text/plain": [
       "1"
      ]
     },
     "execution_count": 15,
     "metadata": {},
     "output_type": "execute_result"
    }
   ],
   "source": [
    "ascending_int(1, 2, 3)"
   ]
  },
  {
   "cell_type": "code",
   "execution_count": 16,
   "id": "a08bf851",
   "metadata": {},
   "outputs": [
    {
     "data": {
      "text/plain": [
       "1"
      ]
     },
     "execution_count": 16,
     "metadata": {},
     "output_type": "execute_result"
    }
   ],
   "source": [
    "ascending_int(0, 0, 1)"
   ]
  },
  {
   "cell_type": "code",
   "execution_count": 17,
   "id": "c78a1c84",
   "metadata": {},
   "outputs": [
    {
     "data": {
      "text/plain": [
       "1"
      ]
     },
     "execution_count": 17,
     "metadata": {},
     "output_type": "execute_result"
    }
   ],
   "source": [
    "ascending_int(-3, -2, -1)"
   ]
  },
  {
   "cell_type": "markdown",
   "id": "2416af80",
   "metadata": {},
   "source": [
    "3. Given two positive integers `a` and `b`, you can get the **remainder** of the integer division of `a` by `b` with `a%b`. So `7%3` returns `1`, and `9%5` returns `4`. Write a function which, given an integer, returns `True` if that integer is a multiple of 7, and `False` otherwise.\n"
   ]
  },
  {
   "cell_type": "code",
   "execution_count": 18,
   "id": "000e4fb4",
   "metadata": {},
   "outputs": [
    {
     "data": {
      "text/plain": [
       "1"
      ]
     },
     "execution_count": 18,
     "metadata": {},
     "output_type": "execute_result"
    }
   ],
   "source": [
    "7%3"
   ]
  },
  {
   "cell_type": "code",
   "execution_count": 19,
   "id": "ed2e4597",
   "metadata": {},
   "outputs": [],
   "source": [
    "def multiple_seven(n):\n",
    "    return n%7 == 0"
   ]
  },
  {
   "cell_type": "code",
   "execution_count": 20,
   "id": "1b45794f",
   "metadata": {},
   "outputs": [
    {
     "data": {
      "text/plain": [
       "True"
      ]
     },
     "execution_count": 20,
     "metadata": {},
     "output_type": "execute_result"
    }
   ],
   "source": [
    "multiple_seven(7)"
   ]
  },
  {
   "cell_type": "code",
   "execution_count": 21,
   "id": "6a6d16fe",
   "metadata": {},
   "outputs": [
    {
     "data": {
      "text/plain": [
       "False"
      ]
     },
     "execution_count": 21,
     "metadata": {},
     "output_type": "execute_result"
    }
   ],
   "source": [
    "multiple_seven(9)"
   ]
  },
  {
   "cell_type": "code",
   "execution_count": 22,
   "id": "e41e15a3",
   "metadata": {},
   "outputs": [
    {
     "data": {
      "text/plain": [
       "True"
      ]
     },
     "execution_count": 22,
     "metadata": {},
     "output_type": "execute_result"
    }
   ],
   "source": [
    "multiple_seven(14)"
   ]
  },
  {
   "cell_type": "code",
   "execution_count": 23,
   "id": "cb666933",
   "metadata": {},
   "outputs": [
    {
     "data": {
      "text/plain": [
       "False"
      ]
     },
     "execution_count": 23,
     "metadata": {},
     "output_type": "execute_result"
    }
   ],
   "source": [
    "multiple_seven(78)"
   ]
  },
  {
   "cell_type": "markdown",
   "id": "60fe83eb",
   "metadata": {},
   "source": [
    "4. A year is a **leap year** if it is divisible by 4, unless it is a century year that is not divisible by 400. So, 1800 and 1900 are not leap years while 1600 and 2000 are. Write a function that tells you whether a year is a leap year."
   ]
  },
  {
   "cell_type": "code",
   "execution_count": 24,
   "id": "77401a78",
   "metadata": {},
   "outputs": [],
   "source": [
    "def leap(y):\n",
    "    return (y%4 == 0) and not (y%100 == 0 and y%400 != 0)"
   ]
  },
  {
   "cell_type": "code",
   "execution_count": 25,
   "id": "9f238b7f",
   "metadata": {},
   "outputs": [
    {
     "data": {
      "text/plain": [
       "False"
      ]
     },
     "execution_count": 25,
     "metadata": {},
     "output_type": "execute_result"
    }
   ],
   "source": [
    "leap(2001)"
   ]
  },
  {
   "cell_type": "code",
   "execution_count": 26,
   "id": "0ca8f0bf",
   "metadata": {},
   "outputs": [
    {
     "data": {
      "text/plain": [
       "True"
      ]
     },
     "execution_count": 26,
     "metadata": {},
     "output_type": "execute_result"
    }
   ],
   "source": [
    "leap(2000)"
   ]
  },
  {
   "cell_type": "code",
   "execution_count": 27,
   "id": "d6f8ae22",
   "metadata": {},
   "outputs": [
    {
     "data": {
      "text/plain": [
       "True"
      ]
     },
     "execution_count": 27,
     "metadata": {},
     "output_type": "execute_result"
    }
   ],
   "source": [
    "leap(2004)"
   ]
  },
  {
   "cell_type": "code",
   "execution_count": 28,
   "id": "b1b14f1c",
   "metadata": {},
   "outputs": [
    {
     "data": {
      "text/plain": [
       "False"
      ]
     },
     "execution_count": 28,
     "metadata": {},
     "output_type": "execute_result"
    }
   ],
   "source": [
    "leap(1800)"
   ]
  },
  {
   "cell_type": "code",
   "execution_count": 29,
   "id": "a4ee138e",
   "metadata": {
    "scrolled": true
   },
   "outputs": [
    {
     "data": {
      "text/plain": [
       "False"
      ]
     },
     "execution_count": 29,
     "metadata": {},
     "output_type": "execute_result"
    }
   ],
   "source": [
    "leap(1900)"
   ]
  },
  {
   "cell_type": "code",
   "execution_count": 30,
   "id": "9c516dce",
   "metadata": {},
   "outputs": [],
   "source": [
    "def leap2(y): #DeMorgan\n",
    "    return not ((y%4 != 0) or (y%100 == 0 and y%400 != 0))"
   ]
  },
  {
   "cell_type": "code",
   "execution_count": 31,
   "id": "b5a6b8bc",
   "metadata": {},
   "outputs": [
    {
     "data": {
      "text/plain": [
       "False"
      ]
     },
     "execution_count": 31,
     "metadata": {},
     "output_type": "execute_result"
    }
   ],
   "source": [
    "leap2(2001)"
   ]
  },
  {
   "cell_type": "code",
   "execution_count": 32,
   "id": "9baf2e37",
   "metadata": {},
   "outputs": [
    {
     "data": {
      "text/plain": [
       "True"
      ]
     },
     "execution_count": 32,
     "metadata": {},
     "output_type": "execute_result"
    }
   ],
   "source": [
    "leap2(2000)"
   ]
  },
  {
   "cell_type": "code",
   "execution_count": 33,
   "id": "e8b835c4",
   "metadata": {},
   "outputs": [
    {
     "data": {
      "text/plain": [
       "True"
      ]
     },
     "execution_count": 33,
     "metadata": {},
     "output_type": "execute_result"
    }
   ],
   "source": [
    "leap2(2004)"
   ]
  },
  {
   "cell_type": "code",
   "execution_count": 34,
   "id": "1825e35d",
   "metadata": {},
   "outputs": [
    {
     "data": {
      "text/plain": [
       "False"
      ]
     },
     "execution_count": 34,
     "metadata": {},
     "output_type": "execute_result"
    }
   ],
   "source": [
    "leap2(1800)"
   ]
  },
  {
   "cell_type": "code",
   "execution_count": 35,
   "id": "22bfc036",
   "metadata": {
    "scrolled": true
   },
   "outputs": [
    {
     "data": {
      "text/plain": [
       "False"
      ]
     },
     "execution_count": 35,
     "metadata": {},
     "output_type": "execute_result"
    }
   ],
   "source": [
    "leap2(1900)"
   ]
  },
  {
   "cell_type": "markdown",
   "id": "1ffe53f9",
   "metadata": {},
   "source": [
    "5. Write a function which anonymizes credit card numbers, turning, for instance, '2875765488882745' into 'Credit card ****745'. "
   ]
  },
  {
   "cell_type": "code",
   "execution_count": 36,
   "id": "cd88180b",
   "metadata": {},
   "outputs": [],
   "source": [
    "def anonymize(card):\n",
    "    return '****'+card[-3:]"
   ]
  },
  {
   "cell_type": "code",
   "execution_count": 37,
   "id": "63c1ce9b",
   "metadata": {},
   "outputs": [
    {
     "data": {
      "text/plain": [
       "'****745'"
      ]
     },
     "execution_count": 37,
     "metadata": {},
     "output_type": "execute_result"
    }
   ],
   "source": [
    "anonymize('2875765488882745')"
   ]
  }
 ],
 "metadata": {
  "kernelspec": {
   "display_name": "Python 3 (ipykernel)",
   "language": "python",
   "name": "python3"
  },
  "language_info": {
   "codemirror_mode": {
    "name": "ipython",
    "version": 3
   },
   "file_extension": ".py",
   "mimetype": "text/x-python",
   "name": "python",
   "nbconvert_exporter": "python",
   "pygments_lexer": "ipython3",
   "version": "3.11.5"
  }
 },
 "nbformat": 4,
 "nbformat_minor": 5
}
