{
 "cells": [
  {
   "cell_type": "markdown",
   "id": "69f3654b",
   "metadata": {},
   "source": [
    "# Homework 4"
   ]
  },
  {
   "cell_type": "markdown",
   "id": "7beb439c",
   "metadata": {},
   "source": [
    "1. Write a list containing the month names and use it to create a function for **date conversion** that takes `'1954-04-30'` and returns `'April 30, 1954'`.\n"
   ]
  },
  {
   "cell_type": "code",
   "execution_count": 1,
   "id": "c6fdf7a4",
   "metadata": {},
   "outputs": [],
   "source": [
    "def date_change_tuple(iso):\n",
    "    months = ('January', 'February', 'March', 'April', 'May', 'June', 'July',\n",
    "              'August', 'September', 'October', 'November', 'December')\n",
    "    return months[int(iso[5:7])-1] + \" \" + iso[-2:] + \", \" + iso[0:4]"
   ]
  },
  {
   "cell_type": "code",
   "execution_count": 2,
   "id": "cf0fee52",
   "metadata": {},
   "outputs": [
    {
     "data": {
      "text/plain": [
       "'April 30, 1954'"
      ]
     },
     "execution_count": 2,
     "metadata": {},
     "output_type": "execute_result"
    }
   ],
   "source": [
    "date_change_tuple('1954-04-30')"
   ]
  },
  {
   "cell_type": "code",
   "execution_count": 3,
   "id": "f76545b4",
   "metadata": {},
   "outputs": [],
   "source": [
    "def date_change_dict(iso):\n",
    "    months = {'01':'January', '02':'February', '03':'March', '04':'April', '05':'May', '06':'June', '07':'July',\n",
    "              '08':'August', '09':'September', '10':'October', '11':'November', '12':'December'}\n",
    "    return months[iso[5:7]] + \" \" + iso[-2:] + \", \" + iso[0:4]"
   ]
  },
  {
   "cell_type": "code",
   "execution_count": 4,
   "id": "1314a2c8",
   "metadata": {},
   "outputs": [
    {
     "data": {
      "text/plain": [
       "'April 30, 1954'"
      ]
     },
     "execution_count": 4,
     "metadata": {},
     "output_type": "execute_result"
    }
   ],
   "source": [
    "date_change_dict('1954-04-30')"
   ]
  },
  {
   "cell_type": "markdown",
   "id": "7c5c4851",
   "metadata": {},
   "source": [
    "2. To write a function that returns more than one result, we specify them in the `return` statement, separated by commas. For instance, if our function must return `result1` and `result2`, we write `return result1, result2` (don't forget the comma). Then, the results will be returned together as a tuple. Write a function that takes a date in the format 'yyyy-mm-dd' and returns the year, the month and the day as three integers. "
   ]
  },
  {
   "cell_type": "code",
   "execution_count": 5,
   "id": "5cbfcb31",
   "metadata": {},
   "outputs": [],
   "source": [
    "def date_split(iso):\n",
    "    return int(iso[0:4]), int(iso[5:7]), int(iso[-2:])"
   ]
  },
  {
   "cell_type": "code",
   "execution_count": 6,
   "id": "11141751",
   "metadata": {},
   "outputs": [
    {
     "data": {
      "text/plain": [
       "(1954, 4, 30)"
      ]
     },
     "execution_count": 6,
     "metadata": {},
     "output_type": "execute_result"
    }
   ],
   "source": [
    "date_split('1954-04-30')"
   ]
  },
  {
   "cell_type": "markdown",
   "id": "1ba64c22",
   "metadata": {},
   "source": [
    "3. Modify the definition of the previous question, so that your function takes the string `'1954-04-30'` and returns the dictionary `{'year': 1954, 'month': 4, 'day': 30}`."
   ]
  },
  {
   "cell_type": "code",
   "execution_count": 7,
   "id": "c84b468e",
   "metadata": {},
   "outputs": [],
   "source": [
    "def date_dict(iso):\n",
    "    return {'year':int(iso[0:4]), 'month':int(iso[5:7]), 'day':int(iso[-2:])}"
   ]
  },
  {
   "cell_type": "code",
   "execution_count": 8,
   "id": "72640de8",
   "metadata": {},
   "outputs": [
    {
     "data": {
      "text/plain": [
       "{'year': 1954, 'month': 4, 'day': 30}"
      ]
     },
     "execution_count": 8,
     "metadata": {},
     "output_type": "execute_result"
    }
   ],
   "source": [
    "date_dict('1954-04-30')"
   ]
  },
  {
   "cell_type": "markdown",
   "id": "10d6bc49",
   "metadata": {},
   "source": [
    "4. Write a Python function for a **change dispenser**. The coins are named as follows: a quarter is 25 cents, a dime is 10 cents, a nickel is 5 cents and a penny is 1 cent. The function must take a number of cents and return a dictionary with the number of coins of every type needed. For instance, for the argument `quantity=67` it would return `{'quarters': 2, 'dimes': 1, 'nickels': 1, 'pennies': 2}`. Hint: you can get the **quotient** of the integer division operator of `a` by `b` with `a//b` (examples: `7//3` returns `2`, `23//4` returns 5)."
   ]
  },
  {
   "cell_type": "code",
   "execution_count": 9,
   "id": "21c1ecf6",
   "metadata": {},
   "outputs": [],
   "source": [
    "def change_dispenser(quantity):\n",
    "    definitions = {'quarter': 25, 'dime': 10, 'nickel': 5, 'penny': 1}\n",
    "    change = {}\n",
    "    change['quarters'] = quantity//definitions['quarter']\n",
    "    quantity = quantity - change['quarters'] * definitions['quarter']\n",
    "    change['dimes'] = quantity//definitions['dime']\n",
    "    quantity = quantity - change['dimes'] * definitions['dime']\n",
    "    change['nickels'] = quantity//definitions['nickel']\n",
    "    quantity = quantity - change['nickels'] * definitions['nickel']\n",
    "    change['pennys'] = quantity//definitions['penny']\n",
    "    quantity = quantity - change['pennys'] * definitions['penny']\n",
    "    return change"
   ]
  },
  {
   "cell_type": "code",
   "execution_count": 10,
   "id": "771ba803",
   "metadata": {},
   "outputs": [
    {
     "data": {
      "text/plain": [
       "{'quarters': 2, 'dimes': 1, 'nickels': 1, 'pennys': 2}"
      ]
     },
     "execution_count": 10,
     "metadata": {},
     "output_type": "execute_result"
    }
   ],
   "source": [
    "change_dispenser(67)"
   ]
  },
  {
   "cell_type": "code",
   "execution_count": 11,
   "id": "8b890036",
   "metadata": {},
   "outputs": [],
   "source": [
    "def single_change(quantity, definitions, coin):\n",
    "    change = quantity//definitions[coin]\n",
    "    quantity = quantity - change * definitions[coin]\n",
    "    return change, quantity\n",
    "\n",
    "def change_dispenser2(quantity):\n",
    "    definitions = {'quarter': 25, 'dime': 10, 'nickel': 5, 'penny': 1}\n",
    "    change = {}\n",
    "    (change['quarters'], quantity) = single_change(quantity, definitions, 'quarter')\n",
    "    (change['dimes'], quantity) = single_change(quantity, definitions, 'dime')\n",
    "    (change['nickels'], quantity) = single_change(quantity, definitions, 'nickel')\n",
    "    (change['pennys'], quantity) = single_change(quantity, definitions, 'penny')    \n",
    "    return change"
   ]
  },
  {
   "cell_type": "code",
   "execution_count": 12,
   "id": "4cc6f392",
   "metadata": {},
   "outputs": [
    {
     "data": {
      "text/plain": [
       "{'quarters': 2, 'dimes': 1, 'nickels': 1, 'pennys': 2}"
      ]
     },
     "execution_count": 12,
     "metadata": {},
     "output_type": "execute_result"
    }
   ],
   "source": [
    "change_dispenser2(67)"
   ]
  },
  {
   "cell_type": "markdown",
   "id": "55aa22f6",
   "metadata": {},
   "source": [
    "The following code is a possible solution using a `for` loop."
   ]
  },
  {
   "cell_type": "code",
   "execution_count": 13,
   "id": "52dff846",
   "metadata": {},
   "outputs": [],
   "source": [
    "def single_change(quantity, definitions, coin):\n",
    "    change = quantity//definitions[coin]\n",
    "    quantity = quantity - change * definitions[coin]\n",
    "    return change, quantity\n",
    "\n",
    "def change_dispenser3(quantity):\n",
    "    definitions = {'quarter': 25, 'dime': 10, 'nickel': 5, 'penny': 1}\n",
    "    change = {}\n",
    "    for coin in ('quarter', 'dime', 'nickel', 'penny'):\n",
    "        (change[coin+'s'], quantity) = single_change(quantity, definitions, coin)  \n",
    "    return change"
   ]
  },
  {
   "cell_type": "code",
   "execution_count": 14,
   "id": "a16a390f",
   "metadata": {},
   "outputs": [
    {
     "data": {
      "text/plain": [
       "{'quarters': 2, 'dimes': 1, 'nickels': 1, 'pennys': 2}"
      ]
     },
     "execution_count": 14,
     "metadata": {},
     "output_type": "execute_result"
    }
   ],
   "source": [
    "change_dispenser3(67)"
   ]
  }
 ],
 "metadata": {
  "kernelspec": {
   "display_name": "Python 3 (ipykernel)",
   "language": "python",
   "name": "python3"
  },
  "language_info": {
   "codemirror_mode": {
    "name": "ipython",
    "version": 3
   },
   "file_extension": ".py",
   "mimetype": "text/x-python",
   "name": "python",
   "nbconvert_exporter": "python",
   "pygments_lexer": "ipython3",
   "version": "3.11.5"
  }
 },
 "nbformat": 4,
 "nbformat_minor": 5
}
