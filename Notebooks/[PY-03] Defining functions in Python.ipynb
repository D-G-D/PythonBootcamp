{
  "nbformat": 4,
  "nbformat_minor": 0,
  "metadata": {
    "colab": {
      "provenance": [],
      "authorship_tag": "ABX9TyM1t91XxBoZdOcVIZx3v7o9",
      "include_colab_link": true
    },
    "kernelspec": {
      "name": "python3",
      "display_name": "Python 3"
    },
    "language_info": {
      "name": "python"
    }
  },
  "cells": [
    {
      "cell_type": "markdown",
      "metadata": {
        "id": "view-in-github",
        "colab_type": "text"
      },
      "source": [
        "<a href=\"https://colab.research.google.com/github/cinnData/PythonBootcamp/blob/main/Notebooks/%5BPY-03%5D%20Defining%20functions%20in%20Python.ipynb\" target=\"_parent\"><img src=\"https://colab.research.google.com/assets/colab-badge.svg\" alt=\"Open In Colab\"/></a>"
      ]
    },
    {
      "cell_type": "markdown",
      "source": [
        "# [PY-03] Defining functions in Python"
      ],
      "metadata": {
        "id": "XjXnStPjPotn"
      }
    },
    {
      "cell_type": "markdown",
      "source": [
        "## A first example"
      ],
      "metadata": {
        "id": "hcZpQGbxPy40"
      }
    },
    {
      "cell_type": "code",
      "source": [
        "def f(x):\n",
        "    y = 1/(1 - x**2)\n",
        "    return y"
      ],
      "metadata": {
        "id": "4w3Bbr-0P37_"
      },
      "execution_count": null,
      "outputs": []
    },
    {
      "cell_type": "code",
      "source": [
        "f(2)"
      ],
      "metadata": {
        "id": "XWkI1XdhP6RM"
      },
      "execution_count": null,
      "outputs": []
    },
    {
      "cell_type": "code",
      "source": [
        "f(1)"
      ],
      "metadata": {
        "id": "i4H5FcXUP9Xr"
      },
      "execution_count": null,
      "outputs": []
    },
    {
      "cell_type": "code",
      "source": [
        "f('Mary')"
      ],
      "metadata": {
        "id": "-lVVVUfYP-9r"
      },
      "execution_count": null,
      "outputs": []
    },
    {
      "cell_type": "code",
      "source": [
        "def f(x): return 1/(1 - x**2)"
      ],
      "metadata": {
        "id": "BCyrPb6w9wzl"
      },
      "execution_count": null,
      "outputs": []
    },
    {
      "cell_type": "markdown",
      "source": [
        "## More about functions"
      ],
      "metadata": {
        "id": "VRecksrq90-5"
      }
    },
    {
      "cell_type": "code",
      "source": [
        "def hello():\n",
        "\tprint('Hello, world!!')"
      ],
      "metadata": {
        "id": "XT3UsaGn90qE"
      },
      "execution_count": null,
      "outputs": []
    },
    {
      "cell_type": "code",
      "source": [
        "hello()"
      ],
      "metadata": {
        "id": "dRl3noiK90Yn"
      },
      "execution_count": null,
      "outputs": []
    },
    {
      "cell_type": "code",
      "source": [
        "def g(x, y):\n",
        "\tz = (x- y)/(x**2 + y**2)\n",
        "\treturn z"
      ],
      "metadata": {
        "id": "BbLQFZG790HN"
      },
      "execution_count": null,
      "outputs": []
    },
    {
      "cell_type": "code",
      "source": [
        "g(2, 1)"
      ],
      "metadata": {
        "id": "WMMByoJRQF12"
      },
      "execution_count": null,
      "outputs": []
    },
    {
      "cell_type": "markdown",
      "source": [
        "## Positional arguments and keyword arguments"
      ],
      "metadata": {
        "id": "3GUgP6lPChes"
      }
    },
    {
      "cell_type": "code",
      "source": [
        "g(x=2, y=1)"
      ],
      "metadata": {
        "id": "ZXQfrYIP9z04"
      },
      "execution_count": null,
      "outputs": []
    },
    {
      "cell_type": "code",
      "source": [
        "g(y=1, x=2)"
      ],
      "metadata": {
        "id": "sIlJZJJT9zco"
      },
      "execution_count": null,
      "outputs": []
    },
    {
      "cell_type": "code",
      "source": [
        "g(1, 2)"
      ],
      "metadata": {
        "id": "miK2zVtb9zJO"
      },
      "execution_count": null,
      "outputs": []
    },
    {
      "cell_type": "code",
      "source": [
        "g(2, y=1)"
      ],
      "metadata": {
        "id": "HTr8oRy59ytE"
      },
      "execution_count": null,
      "outputs": []
    },
    {
      "cell_type": "code",
      "source": [
        "g(x=2, 1)"
      ],
      "metadata": {
        "id": "oOeSzvrqQBiI"
      },
      "execution_count": null,
      "outputs": []
    },
    {
      "cell_type": "code",
      "source": [
        "def root(x, n=2):\n",
        "\ty = x**(1/n)\n",
        "\treturn y"
      ],
      "metadata": {
        "id": "xllK4z8aAhoX"
      },
      "execution_count": null,
      "outputs": []
    },
    {
      "cell_type": "code",
      "source": [
        "root(2)"
      ],
      "metadata": {
        "id": "KyZEA_jbC5cF"
      },
      "execution_count": null,
      "outputs": []
    },
    {
      "cell_type": "code",
      "source": [
        "root(2, 3)"
      ],
      "metadata": {
        "id": "JQVLT5mtC5ID"
      },
      "execution_count": null,
      "outputs": []
    },
    {
      "cell_type": "markdown",
      "source": [
        "## Functions and methods"
      ],
      "metadata": {
        "id": "5d6RqFvXQIkN"
      }
    },
    {
      "cell_type": "code",
      "source": [
        "len('Bruce Sprinsgteen')"
      ],
      "metadata": {
        "id": "URi9Pdx6iyRp"
      },
      "execution_count": null,
      "outputs": []
    },
    {
      "cell_type": "code",
      "source": [
        "'Bruce Sprinsgteen'.replace('Bruce', 'The Boss')"
      ],
      "metadata": {
        "id": "h_Ckcok6A6o7"
      },
      "execution_count": null,
      "outputs": []
    },
    {
      "cell_type": "code",
      "source": [
        "'Bruce Sprinsgteen'.lower()"
      ],
      "metadata": {
        "id": "knWU7NK8A82W"
      },
      "execution_count": null,
      "outputs": []
    },
    {
      "cell_type": "code",
      "source": [
        "round(number=1/3, ndigits=2)"
      ],
      "metadata": {
        "id": "5W_kx_9aBAEc"
      },
      "execution_count": null,
      "outputs": []
    }
  ]
}