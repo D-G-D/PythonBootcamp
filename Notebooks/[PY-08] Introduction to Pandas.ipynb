{
  "nbformat": 4,
  "nbformat_minor": 0,
  "metadata": {
    "colab": {
      "provenance": [],
      "authorship_tag": "ABX9TyMCRziybt03lxluXfPCXVYC",
      "include_colab_link": true
    },
    "kernelspec": {
      "name": "python3",
      "display_name": "Python 3"
    },
    "language_info": {
      "name": "python"
    }
  },
  "cells": [
    {
      "cell_type": "markdown",
      "metadata": {
        "id": "view-in-github",
        "colab_type": "text"
      },
      "source": [
        "<a href=\"https://colab.research.google.com/github/cinnData/PythonBootcamp/blob/main/Notebooks/%5BPY-08%5D%20Introduction%20to%20Pandas.ipynb\" target=\"_parent\"><img src=\"https://colab.research.google.com/assets/colab-badge.svg\" alt=\"Open In Colab\"/></a>"
      ]
    },
    {
      "cell_type": "markdown",
      "source": [
        "# [PY-08] Introduction to Pandas"
      ],
      "metadata": {
        "id": "pdYW4i4H94qm"
      }
    },
    {
      "cell_type": "markdown",
      "source": [
        "## The package Pandas"
      ],
      "metadata": {
        "id": "vjbhMkdN-FvC"
      }
    },
    {
      "cell_type": "code",
      "source": [
        "import pandas as pd"
      ],
      "metadata": {
        "id": "HFKtUnv1-S12"
      },
      "execution_count": null,
      "outputs": []
    },
    {
      "cell_type": "markdown",
      "source": [
        "## Pandas series"
      ],
      "metadata": {
        "id": "AuhR_os7D5r2"
      }
    },
    {
      "cell_type": "code",
      "source": [
        "s1 = pd.Series([2, 7, 14, 5, 9])\n",
        "s1"
      ],
      "metadata": {
        "id": "Sph3ieR7D-rD"
      },
      "execution_count": null,
      "outputs": []
    },
    {
      "cell_type": "code",
      "source": [
        "s1.values"
      ],
      "metadata": {
        "id": "cf-ES3WdEtRe"
      },
      "execution_count": null,
      "outputs": []
    },
    {
      "cell_type": "code",
      "source": [
        "s1.index"
      ],
      "metadata": {
        "id": "chAH4kfWE0JX"
      },
      "execution_count": null,
      "outputs": []
    },
    {
      "cell_type": "code",
      "source": [
        "s2 = pd.Series([1, 5, 'Messi'], index = ['a', 'b', 'c'])\n",
        "s2"
      ],
      "metadata": {
        "id": "KKhZ0q5iE2gt"
      },
      "execution_count": null,
      "outputs": []
    },
    {
      "cell_type": "code",
      "source": [
        "s2.index"
      ],
      "metadata": {
        "id": "BOKPh7EwE7yq"
      },
      "execution_count": null,
      "outputs": []
    },
    {
      "cell_type": "code",
      "source": [
        "s2.index[-2:]"
      ],
      "metadata": {
        "id": "gB11JtzdE_PT"
      },
      "execution_count": null,
      "outputs": []
    },
    {
      "cell_type": "markdown",
      "source": [
        "## Pandas data frames"
      ],
      "metadata": {
        "id": "CjdE0Uw4FCHV"
      }
    },
    {
      "cell_type": "code",
      "source": [
        "height = [1.65, 1.73, 1.51, 1.63, 1.69, 1.7, 1.81, 1.66, 1.58, 1.66,\n",
        "    1.62, 1.81, 1.75, 1.65, 1.65]\n",
        "weight = [61.6, 59.5, 46.5, 75.3, 47.6, 80.2, 67.5, 64.1, 69.5, 57.0,\n",
        "    68.6, 69.3, 53.2, 66.1, 50.6]\n",
        "gender = ['M', 'M', 'F', 'F', 'M', 'F', 'M', 'F', 'F', 'M', 'F', 'M',\n",
        "    'F', 'M', 'M']"
      ],
      "metadata": {
        "id": "w3hxqoo6FG6F"
      },
      "execution_count": null,
      "outputs": []
    },
    {
      "cell_type": "code",
      "source": [
        "bio = pd.DataFrame({'height': height, 'weight': weight, 'gender': gender})\n",
        "bio"
      ],
      "metadata": {
        "id": "esatRSz6Ghhd"
      },
      "execution_count": null,
      "outputs": []
    },
    {
      "cell_type": "code",
      "source": [
        "bio.index"
      ],
      "metadata": {
        "id": "EZH53EvGGjfL"
      },
      "execution_count": null,
      "outputs": []
    },
    {
      "cell_type": "code",
      "source": [
        "bio.columns"
      ],
      "metadata": {
        "id": "CpiBkbh8GmaQ"
      },
      "execution_count": null,
      "outputs": []
    },
    {
      "cell_type": "markdown",
      "source": [
        "## Exploring Pandas objects"
      ],
      "metadata": {
        "id": "vMkLY8twGtJL"
      }
    },
    {
      "cell_type": "code",
      "source": [
        "bio.shape"
      ],
      "metadata": {
        "id": "Z34t-0DkjFEU"
      },
      "execution_count": null,
      "outputs": []
    },
    {
      "cell_type": "code",
      "source": [
        "bio.head(2)"
      ],
      "metadata": {
        "id": "oAkIcH6nGxOx"
      },
      "execution_count": null,
      "outputs": []
    },
    {
      "cell_type": "code",
      "source": [
        "bio.info()"
      ],
      "metadata": {
        "id": "pP-3g0DmG043"
      },
      "execution_count": null,
      "outputs": []
    },
    {
      "cell_type": "code",
      "source": [
        "bio.describe()"
      ],
      "metadata": {
        "id": "8dMHn2IHG3EW"
      },
      "execution_count": null,
      "outputs": []
    },
    {
      "cell_type": "markdown",
      "source": [
        "## Subsetting data frames"
      ],
      "metadata": {
        "id": "vtdhc7EKG_Y_"
      }
    },
    {
      "cell_type": "code",
      "source": [
        "bio['height']"
      ],
      "metadata": {
        "id": "oQR1qbj7HKnl"
      },
      "execution_count": null,
      "outputs": []
    },
    {
      "cell_type": "code",
      "source": [
        "bio[['height', 'weight']]"
      ],
      "metadata": {
        "id": "k_KuN1h-HNlX"
      },
      "execution_count": null,
      "outputs": []
    },
    {
      "cell_type": "code",
      "source": [
        "bio['bmi'] = bio['weight']/bio['height']**2\n",
        "bio"
      ],
      "metadata": {
        "id": "we8KsLzTHRzo"
      },
      "execution_count": null,
      "outputs": []
    },
    {
      "cell_type": "code",
      "source": [
        "male = (bio['gender'] == 'M')\n",
        "male"
      ],
      "metadata": {
        "id": "w4FVuNYRHUqj"
      },
      "execution_count": null,
      "outputs": []
    },
    {
      "cell_type": "code",
      "source": [
        "bio[male]"
      ],
      "metadata": {
        "id": "d406PmYwHWon"
      },
      "execution_count": null,
      "outputs": []
    },
    {
      "cell_type": "code",
      "source": [
        "bio[male][['height', 'weight']]"
      ],
      "metadata": {
        "id": "vz65oZhnjilu"
      },
      "execution_count": null,
      "outputs": []
    }
  ]
}