{
  "nbformat": 4,
  "nbformat_minor": 0,
  "metadata": {
    "colab": {
      "provenance": [],
      "authorship_tag": "ABX9TyMTRXwPVBgLYzwphOg+cicv",
      "include_colab_link": true
    },
    "kernelspec": {
      "name": "python3",
      "display_name": "Python 3"
    },
    "language_info": {
      "name": "python"
    }
  },
  "cells": [
    {
      "cell_type": "markdown",
      "metadata": {
        "id": "view-in-github",
        "colab_type": "text"
      },
      "source": [
        "<a href=\"https://colab.research.google.com/github/cinnData/PythonBootcamp/blob/main/Notebooks/%5BPY-07%5D%20NumPy%20and%20Matplotlib.ipynb\" target=\"_parent\"><img src=\"https://colab.research.google.com/assets/colab-badge.svg\" alt=\"Open In Colab\"/></a>"
      ]
    },
    {
      "cell_type": "markdown",
      "source": [
        "# [PY-07] NumPy and Matplotlib"
      ],
      "metadata": {
        "id": "cFejEy-bv18i"
      }
    },
    {
      "cell_type": "markdown",
      "source": [
        "## NumPy arrays"
      ],
      "metadata": {
        "id": "iBkVzeaBv6np"
      }
    },
    {
      "cell_type": "code",
      "source": [
        "import numpy as np"
      ],
      "metadata": {
        "id": "ZVBvuO4Pv-Yv"
      },
      "execution_count": null,
      "outputs": []
    },
    {
      "cell_type": "code",
      "source": [
        "arr1 = np.array(range(10))\n",
        "arr1"
      ],
      "metadata": {
        "id": "w5Son35wwBQi"
      },
      "execution_count": null,
      "outputs": []
    },
    {
      "cell_type": "code",
      "source": [
        "np.array([2, 'a', True])"
      ],
      "metadata": {
        "id": "F4wV9a_awDtG"
      },
      "execution_count": null,
      "outputs": []
    },
    {
      "cell_type": "code",
      "source": [
        "np.array([2, True])"
      ],
      "metadata": {
        "id": "VrHN3sZywIKM"
      },
      "execution_count": null,
      "outputs": []
    },
    {
      "cell_type": "code",
      "source": [
        "np.array([2, 3.2])"
      ],
      "metadata": {
        "id": "XBdqF9o9wLqW"
      },
      "execution_count": null,
      "outputs": []
    },
    {
      "cell_type": "code",
      "source": [
        "arr2 = np.array([[0, 7, 2, 3], [3, 9, -5, 1]])\n",
        "arr2"
      ],
      "metadata": {
        "id": "BXTE27GewNeu"
      },
      "execution_count": null,
      "outputs": []
    },
    {
      "cell_type": "code",
      "source": [
        "arr1.shape"
      ],
      "metadata": {
        "id": "GbL2JwY8wQow"
      },
      "execution_count": null,
      "outputs": []
    },
    {
      "cell_type": "code",
      "source": [
        "arr2.shape"
      ],
      "metadata": {
        "id": "7nCYsut1wVlA"
      },
      "execution_count": null,
      "outputs": []
    },
    {
      "cell_type": "code",
      "source": [
        "arr1[2]"
      ],
      "metadata": {
        "id": "Of1h4HggwXgo"
      },
      "execution_count": null,
      "outputs": []
    },
    {
      "cell_type": "code",
      "source": [
        "arr2[1, 2]"
      ],
      "metadata": {
        "id": "Yqfc2gcBwZu-"
      },
      "execution_count": null,
      "outputs": []
    },
    {
      "cell_type": "markdown",
      "source": [
        "## NumPy functions"
      ],
      "metadata": {
        "id": "qNfxI4b8wcxV"
      }
    },
    {
      "cell_type": "code",
      "source": [
        "np.sqrt(arr1)"
      ],
      "metadata": {
        "id": "X9uCqsgFwjUs"
      },
      "execution_count": null,
      "outputs": []
    },
    {
      "cell_type": "code",
      "source": [
        "def f(t):\n",
        "    return 1/(1 + np.exp(t))\n",
        "f(arr2)"
      ],
      "metadata": {
        "id": "9L8_dvPTwlaE"
      },
      "execution_count": null,
      "outputs": []
    },
    {
      "cell_type": "markdown",
      "source": [
        "## Subsetting arrays"
      ],
      "metadata": {
        "id": "CGWhFYjIwp2U"
      }
    },
    {
      "cell_type": "code",
      "source": [
        "arr1[:3]"
      ],
      "metadata": {
        "id": "OY_2IKb-wuHa"
      },
      "execution_count": null,
      "outputs": []
    },
    {
      "cell_type": "code",
      "source": [
        "arr2[:1, 1:]"
      ],
      "metadata": {
        "id": "6HUe4zMWwxD6"
      },
      "execution_count": null,
      "outputs": []
    },
    {
      "cell_type": "code",
      "source": [
        "arr1 > 3"
      ],
      "metadata": {
        "id": "VUrkQl6EwzLF"
      },
      "execution_count": null,
      "outputs": []
    },
    {
      "cell_type": "code",
      "source": [
        "arr2 > 2"
      ],
      "metadata": {
        "id": "bcTfNOkpw199"
      },
      "execution_count": null,
      "outputs": []
    },
    {
      "cell_type": "code",
      "source": [
        "arr1[arr1 > 3]"
      ],
      "metadata": {
        "id": "dtwRs_hJw3xy"
      },
      "execution_count": null,
      "outputs": []
    },
    {
      "cell_type": "code",
      "source": [
        "## An example"
      ],
      "metadata": {
        "id": "yK-4bhEFfUse"
      },
      "execution_count": null,
      "outputs": []
    },
    {
      "cell_type": "code",
      "source": [
        "height = [1.65, 1.73, 1.51, 1.63, 1.69, 1.7, 1.81, 1.66, 1.58, 1.66,\n",
        "    1.62, 1.81, 1.75, 1.65, 1.65]\n",
        "weight = [61.6, 59.5, 46.5, 75.3, 47.6, 80.2, 67.5, 64.1, 69.5, 57.0,\n",
        "    68.6, 69.3, 53.2, 66.1, 50.6]\n",
        "gender = ['M', 'M', 'F', 'F', 'M', 'F', 'M', 'F', 'F', 'M', 'F', 'M',\n",
        "    'F', 'M', 'M']"
      ],
      "metadata": {
        "id": "lLrlXucefUWL"
      },
      "execution_count": null,
      "outputs": []
    },
    {
      "cell_type": "code",
      "source": [
        "height = np.array(height)\n",
        "weight = np.array(weight)\n",
        "gender = np.array(gender)"
      ],
      "metadata": {
        "id": "hUZsW2P7fc8z"
      },
      "execution_count": null,
      "outputs": []
    },
    {
      "cell_type": "code",
      "source": [
        "bmi = weight/height**2\n",
        "bmi"
      ],
      "metadata": {
        "id": "hClJM93Afcrl"
      },
      "execution_count": null,
      "outputs": []
    },
    {
      "cell_type": "code",
      "source": [
        "bmi.mean().round(1)"
      ],
      "metadata": {
        "id": "0IVuZbJ1fohN"
      },
      "execution_count": null,
      "outputs": []
    },
    {
      "cell_type": "code",
      "source": [
        "bmi[gender == 'F'].mean().round(1)"
      ],
      "metadata": {
        "id": "MkDrRr4Vfs1z"
      },
      "execution_count": null,
      "outputs": []
    },
    {
      "cell_type": "code",
      "source": [
        "bmi[gender == 'M'].mean().round(1)"
      ],
      "metadata": {
        "id": "uP0plGSPfsfW"
      },
      "execution_count": null,
      "outputs": []
    },
    {
      "cell_type": "markdown",
      "source": [
        "## Plotting with Matplotlib"
      ],
      "metadata": {
        "id": "YCOJ0VQlw7Y5"
      }
    },
    {
      "cell_type": "code",
      "source": [
        "import matplotlib.pyplot as plt"
      ],
      "metadata": {
        "id": "65c7dhpsxAuM"
      },
      "execution_count": null,
      "outputs": []
    },
    {
      "cell_type": "code",
      "source": [
        "t = np.linspace(0, 2, 100)"
      ],
      "metadata": {
        "id": "J7MLF-2oxDNV"
      },
      "execution_count": null,
      "outputs": []
    },
    {
      "cell_type": "code",
      "source": [
        "plt.figure(figsize=(5,5))\n",
        "plt.title('Figure 1. Three curves')\n",
        "plt.plot(t, t, label='linear', color='black')\n",
        "plt.plot(t, t**2, label='quadratic', color='black', linestyle='dashed')\n",
        "plt.plot(t, t**3, label='cubic', color='black', linestyle='dotted')\n",
        "plt.legend();"
      ],
      "metadata": {
        "id": "zpCx4WI8xEvV"
      },
      "execution_count": null,
      "outputs": []
    }
  ]
}