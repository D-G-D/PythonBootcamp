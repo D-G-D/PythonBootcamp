{
  "nbformat": 4,
  "nbformat_minor": 0,
  "metadata": {
    "colab": {
      "provenance": [],
      "authorship_tag": "ABX9TyP+XYXo0penm5eOlqoHN7QP",
      "include_colab_link": true
    },
    "kernelspec": {
      "name": "python3",
      "display_name": "Python 3"
    },
    "language_info": {
      "name": "python"
    }
  },
  "cells": [
    {
      "cell_type": "markdown",
      "metadata": {
        "id": "view-in-github",
        "colab_type": "text"
      },
      "source": [
        "<a href=\"https://colab.research.google.com/github/cinnData/PythonBootcamp/blob/main/Notebooks/%5BPY-05%5D%20Control%20statements.ipynb\" target=\"_parent\"><img src=\"https://colab.research.google.com/assets/colab-badge.svg\" alt=\"Open In Colab\"/></a>"
      ]
    },
    {
      "cell_type": "markdown",
      "source": [
        "# [PY-05] Control statements"
      ],
      "metadata": {
        "id": "XjXnStPjPotn"
      }
    },
    {
      "cell_type": "markdown",
      "source": [
        "## If statements"
      ],
      "metadata": {
        "id": "5d6RqFvXQIkN"
      }
    },
    {
      "cell_type": "code",
      "source": [
        "grade = 9\n",
        "if grade >= 5:\n",
        "    print('Congratulations!')"
      ],
      "metadata": {
        "id": "URi9Pdx6iyRp"
      },
      "execution_count": null,
      "outputs": []
    },
    {
      "cell_type": "code",
      "source": [
        "if grade >= 5:\n",
        "    print('PASS')\n",
        "else:\n",
        "\tprint('FAIL')"
      ],
      "metadata": {
        "id": "CSnNMOD1i2RS"
      },
      "execution_count": null,
      "outputs": []
    },
    {
      "cell_type": "code",
      "source": [
        "if grade >= 8:\n",
        "    print('A')\n",
        "elif grade >= 5:\n",
        "    print('B')\n",
        "else:\n",
        "    print('C')"
      ],
      "metadata": {
        "id": "XGuVXjvni4aI"
      },
      "execution_count": null,
      "outputs": []
    },
    {
      "cell_type": "code",
      "source": [
        "grade = 3\n",
        "if grade >= 8:\n",
        "    print('Good!')\n",
        "elif grade >= 5:\n",
        "    print('Keep working!')"
      ],
      "metadata": {
        "id": "teZoDkLwat22"
      },
      "execution_count": null,
      "outputs": []
    },
    {
      "cell_type": "markdown",
      "source": [
        "## While loops"
      ],
      "metadata": {
        "id": "r3pzHPTSi7Tx"
      }
    },
    {
      "cell_type": "code",
      "source": [
        "x = 1\n",
        "while x**2 <= 1000:\n",
        "    x = x + 1\n",
        "x"
      ],
      "metadata": {
        "id": "mngcZd9Ujp39"
      },
      "execution_count": null,
      "outputs": []
    },
    {
      "cell_type": "code",
      "source": [
        "x = 1\n",
        "while x > 0:\n",
        "    x = x + 1\n",
        "x"
      ],
      "metadata": {
        "id": "8IfjMYUhj6-i"
      },
      "execution_count": null,
      "outputs": []
    },
    {
      "cell_type": "code",
      "source": [
        "x"
      ],
      "metadata": {
        "id": "cZkli13lkFqK"
      },
      "execution_count": null,
      "outputs": []
    },
    {
      "cell_type": "markdown",
      "source": [
        "## For loops"
      ],
      "metadata": {
        "id": "duIqz9_YkKGA"
      }
    },
    {
      "cell_type": "code",
      "source": [
        "for i in range(3): print('Hello world!')"
      ],
      "metadata": {
        "id": "yoOzaTEukPf8"
      },
      "execution_count": null,
      "outputs": []
    },
    {
      "cell_type": "code",
      "source": [
        "squares = []\n",
        "for i in range(1, 5):\n",
        "    squares = squares + [i**2]\n",
        "squares"
      ],
      "metadata": {
        "id": "uY7_TLLblQV8"
      },
      "execution_count": null,
      "outputs": []
    },
    {
      "cell_type": "markdown",
      "source": [
        "## List comprehensions"
      ],
      "metadata": {
        "id": "hlMPzEOFlTw1"
      }
    },
    {
      "cell_type": "code",
      "source": [
        "[i**2 for i in range(1, 5)]"
      ],
      "metadata": {
        "id": "Umj3sZ8TlY5j"
      },
      "execution_count": null,
      "outputs": []
    },
    {
      "cell_type": "code",
      "source": [
        "[i**2 for i in range(1, 21) if i % 3 != 0]"
      ],
      "metadata": {
        "id": "RmTlPly1mQyb"
      },
      "execution_count": null,
      "outputs": []
    }
  ]
}