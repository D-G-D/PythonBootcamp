{
  "nbformat": 4,
  "nbformat_minor": 0,
  "metadata": {
    "colab": {
      "provenance": [],
      "authorship_tag": "ABX9TyPhCOIazg0gYx2lgtSzaYjo",
      "include_colab_link": true
    },
    "kernelspec": {
      "name": "python3",
      "display_name": "Python 3"
    },
    "language_info": {
      "name": "python"
    }
  },
  "cells": [
    {
      "cell_type": "markdown",
      "metadata": {
        "id": "view-in-github",
        "colab_type": "text"
      },
      "source": [
        "<a href=\"https://colab.research.google.com/github/cinnData/PythonBootcamp/blob/main/Notebooks/%5BPY_02%5D%20Starting%20with%20Python.ipynb\" target=\"_parent\"><img src=\"https://colab.research.google.com/assets/colab-badge.svg\" alt=\"Open In Colab\"/></a>"
      ]
    },
    {
      "cell_type": "markdown",
      "source": [
        "# [PY-02] Starting with Python"
      ],
      "metadata": {
        "id": "XzNrj6dUj1J2"
      }
    },
    {
      "cell_type": "markdown",
      "source": [
        "## Typing Python code\n"
      ],
      "metadata": {
        "id": "Fn2xHnjskWjo"
      }
    },
    {
      "cell_type": "code",
      "source": [
        "2 + 2"
      ],
      "metadata": {
        "id": "OXzg_CKpkazR"
      },
      "execution_count": null,
      "outputs": []
    },
    {
      "cell_type": "code",
      "source": [
        "a = 2 + 2"
      ],
      "metadata": {
        "id": "AaJfcMEnklhG"
      },
      "execution_count": null,
      "outputs": []
    },
    {
      "cell_type": "code",
      "source": [
        "a"
      ],
      "metadata": {
        "id": "AN6RDKhgkryT"
      },
      "execution_count": null,
      "outputs": []
    },
    {
      "cell_type": "code",
      "source": [
        "a = 7 - 2"
      ],
      "metadata": {
        "id": "dZnGkeutkwns"
      },
      "execution_count": null,
      "outputs": []
    },
    {
      "cell_type": "code",
      "source": [
        "a"
      ],
      "metadata": {
        "id": "kqHhp6DDk1FN"
      },
      "execution_count": null,
      "outputs": []
    },
    {
      "cell_type": "code",
      "source": [
        "b = 2 * 3\n",
        "b - 1\n",
        "b**2"
      ],
      "metadata": {
        "id": "UzQMdUcHk2Pd"
      },
      "execution_count": null,
      "outputs": []
    },
    {
      "cell_type": "markdown",
      "source": [
        "## Python packages"
      ],
      "metadata": {
        "id": "Gzi17r8wk_p0"
      }
    },
    {
      "cell_type": "code",
      "source": [
        "import math\n",
        "math.sqrt(2)"
      ],
      "metadata": {
        "id": "aYCIFXXXolaf"
      },
      "execution_count": null,
      "outputs": []
    },
    {
      "cell_type": "code",
      "source": [
        "from math import sqrt\n",
        "sqrt(2)"
      ],
      "metadata": {
        "id": "2PRkH3rnonTC"
      },
      "execution_count": null,
      "outputs": []
    },
    {
      "cell_type": "markdown",
      "source": [
        "## Numeric data types"
      ],
      "metadata": {
        "id": "e55onCCvoyS7"
      }
    },
    {
      "cell_type": "code",
      "source": [
        "type(2)"
      ],
      "metadata": {
        "id": "q3_frKRaqp9X"
      },
      "execution_count": null,
      "outputs": []
    },
    {
      "cell_type": "code",
      "source": [
        "type(2.4)"
      ],
      "metadata": {
        "id": "Fb7ViGXUR3fZ"
      },
      "execution_count": null,
      "outputs": []
    },
    {
      "cell_type": "code",
      "source": [
        "type(True)"
      ],
      "metadata": {
        "id": "YKOVpTxbR8i1"
      },
      "execution_count": null,
      "outputs": []
    },
    {
      "cell_type": "code",
      "source": [],
      "metadata": {
        "id": "N6BopTKBM-2M"
      },
      "execution_count": null,
      "outputs": []
    },
    {
      "cell_type": "markdown",
      "source": [
        "## Strings"
      ],
      "metadata": {
        "id": "yMZ6EAP_SBYn"
      }
    },
    {
      "cell_type": "code",
      "source": [
        "type('Messi')"
      ],
      "metadata": {
        "id": "dmxufkd0SK61"
      },
      "execution_count": null,
      "outputs": []
    },
    {
      "cell_type": "code",
      "source": [
        "len('Messi')"
      ],
      "metadata": {
        "id": "d1OF3R87M4Q5"
      },
      "execution_count": null,
      "outputs": []
    },
    {
      "cell_type": "code",
      "source": [
        "myplayer = 'Leo ' + 'Messi'\n",
        "myplayer"
      ],
      "metadata": {
        "id": "jkEkW89xNH0Y"
      },
      "execution_count": null,
      "outputs": []
    },
    {
      "cell_type": "markdown",
      "source": [
        "## Characters"
      ],
      "metadata": {
        "id": "EWEdiZ0jNV0y"
      }
    },
    {
      "cell_type": "code",
      "source": [
        "ord('a')"
      ],
      "metadata": {
        "id": "qkkyPBxnSPD-"
      },
      "execution_count": null,
      "outputs": []
    },
    {
      "cell_type": "code",
      "source": [
        "ord('A')"
      ],
      "metadata": {
        "id": "wjYzMPESTIQt"
      },
      "execution_count": null,
      "outputs": []
    },
    {
      "cell_type": "code",
      "source": [
        "ord('ñ')"
      ],
      "metadata": {
        "id": "X1wGsTlJTKSZ"
      },
      "execution_count": null,
      "outputs": []
    },
    {
      "cell_type": "markdown",
      "source": [
        "## Substrings"
      ],
      "metadata": {
        "id": "zQO0Oe5tNkHd"
      }
    },
    {
      "cell_type": "code",
      "source": [
        "myplayer[2]"
      ],
      "metadata": {
        "id": "G3bT9vcSNjo_"
      },
      "execution_count": null,
      "outputs": []
    },
    {
      "cell_type": "code",
      "source": [
        "myplayer[-3]"
      ],
      "metadata": {
        "id": "znCHuBxLOC4z"
      },
      "execution_count": null,
      "outputs": []
    },
    {
      "cell_type": "code",
      "source": [
        "myplayer[-4]"
      ],
      "metadata": {
        "id": "wLeDuYwOOGS7"
      },
      "execution_count": null,
      "outputs": []
    },
    {
      "cell_type": "markdown",
      "source": [
        "## Type conversions"
      ],
      "metadata": {
        "id": "CSQYmT3nTh_Z"
      }
    },
    {
      "cell_type": "code",
      "source": [
        "float(2)"
      ],
      "metadata": {
        "id": "xPq-BwBdTm8s"
      },
      "execution_count": null,
      "outputs": []
    },
    {
      "cell_type": "code",
      "source": [
        "int(2.3)"
      ],
      "metadata": {
        "id": "zfjdXINaTryF"
      },
      "execution_count": null,
      "outputs": []
    },
    {
      "cell_type": "code",
      "source": [
        "float('27')"
      ],
      "metadata": {
        "id": "HdhXf9ECTu09"
      },
      "execution_count": null,
      "outputs": []
    },
    {
      "cell_type": "code",
      "source": [
        "str(27)"
      ],
      "metadata": {
        "id": "WLH8mPx0URCI"
      },
      "execution_count": null,
      "outputs": []
    },
    {
      "cell_type": "code",
      "source": [
        "1 + True"
      ],
      "metadata": {
        "id": "_j6vKf3xUStC"
      },
      "execution_count": null,
      "outputs": []
    },
    {
      "cell_type": "markdown",
      "source": [
        "## Comparison operators"
      ],
      "metadata": {
        "id": "KxIM-ynzVBGq"
      }
    },
    {
      "cell_type": "code",
      "source": [
        "5 < a"
      ],
      "metadata": {
        "id": "pqXXnk6OVXZD"
      },
      "execution_count": null,
      "outputs": []
    },
    {
      "cell_type": "code",
      "source": [
        "a == 7"
      ],
      "metadata": {
        "id": "5BrgYyZKVcho"
      },
      "execution_count": null,
      "outputs": []
    },
    {
      "cell_type": "code",
      "source": [
        "a != 4"
      ],
      "metadata": {
        "id": "6BdD2ijkYa_9"
      },
      "execution_count": null,
      "outputs": []
    },
    {
      "cell_type": "code",
      "source": [
        "'a' >= 'A'"
      ],
      "metadata": {
        "id": "ouGloORXY0En"
      },
      "execution_count": null,
      "outputs": []
    },
    {
      "cell_type": "code",
      "source": [
        "3 == 3.0"
      ],
      "metadata": {
        "id": "y-fo1PbtY74G"
      },
      "execution_count": null,
      "outputs": []
    },
    {
      "cell_type": "code",
      "source": [
        "0.7 < True"
      ],
      "metadata": {
        "id": "Q_PqNm5DZGKh"
      },
      "execution_count": null,
      "outputs": []
    },
    {
      "cell_type": "markdown",
      "source": [
        "## Logical operators"
      ],
      "metadata": {
        "id": "tqRMuE55ZIYD"
      }
    },
    {
      "cell_type": "code",
      "source": [
        "True and False"
      ],
      "metadata": {
        "id": "WUCm2bg-mIl3"
      },
      "execution_count": null,
      "outputs": []
    },
    {
      "cell_type": "code",
      "source": [
        "True or False"
      ],
      "metadata": {
        "id": "zfHJ0k6hmKQf"
      },
      "execution_count": null,
      "outputs": []
    },
    {
      "cell_type": "code",
      "source": [
        "not True"
      ],
      "metadata": {
        "id": "a75yaZyqmNKp"
      },
      "execution_count": null,
      "outputs": []
    },
    {
      "cell_type": "code",
      "source": [
        "5 < 7 and ' ' <= '6'"
      ],
      "metadata": {
        "id": "CUlOq8DImO4g"
      },
      "execution_count": null,
      "outputs": []
    }
  ]
}
