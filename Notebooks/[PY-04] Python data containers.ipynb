{
  "nbformat": 4,
  "nbformat_minor": 0,
  "metadata": {
    "colab": {
      "provenance": [],
      "authorship_tag": "ABX9TyOjUY8KkoAVtZIMNhOO9WFX",
      "include_colab_link": true
    },
    "kernelspec": {
      "name": "python3",
      "display_name": "Python 3"
    },
    "language_info": {
      "name": "python"
    }
  },
  "cells": [
    {
      "cell_type": "markdown",
      "metadata": {
        "id": "view-in-github",
        "colab_type": "text"
      },
      "source": [
        "<a href=\"https://colab.research.google.com/github/cinnData/PythonBootcamp/blob/main/Notebooks/%5BPY-04%5D%20Python%20data%20containers.ipynb\" target=\"_parent\"><img src=\"https://colab.research.google.com/assets/colab-badge.svg\" alt=\"Open In Colab\"/></a>"
      ]
    },
    {
      "cell_type": "markdown",
      "source": [
        "# [PY-04] Python data containers"
      ],
      "metadata": {
        "id": "Mscnf7DTKDbr"
      }
    },
    {
      "cell_type": "markdown",
      "source": [
        "## Lists"
      ],
      "metadata": {
        "id": "v0natlYwLQVg"
      }
    },
    {
      "cell_type": "code",
      "source": [
        "mylist = ['Messi', 'Cristiano', 'Neymar', 'Haaland']"
      ],
      "metadata": {
        "id": "FPKdxhauLVjW"
      },
      "execution_count": null,
      "outputs": []
    },
    {
      "cell_type": "code",
      "source": [
        "len(mylist)\n"
      ],
      "metadata": {
        "id": "188bg49YLfjv"
      },
      "execution_count": null,
      "outputs": []
    },
    {
      "cell_type": "code",
      "source": [
        "len([])"
      ],
      "metadata": {
        "id": "sBosMpoULkJ4"
      },
      "execution_count": null,
      "outputs": []
    },
    {
      "cell_type": "code",
      "source": [
        "newlist = mylist + [2, 3]\n",
        "newlist"
      ],
      "metadata": {
        "id": "MOINapXELmvW"
      },
      "execution_count": null,
      "outputs": []
    },
    {
      "cell_type": "code",
      "source": [
        "len(newlist)"
      ],
      "metadata": {
        "id": "lfkIPkg7LrsY"
      },
      "execution_count": null,
      "outputs": []
    },
    {
      "cell_type": "markdown",
      "source": [
        "## Extracting items from a list"
      ],
      "metadata": {
        "id": "BL6a6YyvLvjI"
      }
    },
    {
      "cell_type": "code",
      "source": [
        "mylist[0]"
      ],
      "metadata": {
        "id": "GFAFxW-ILzpj"
      },
      "execution_count": null,
      "outputs": []
    },
    {
      "cell_type": "code",
      "source": [
        "mylist[-1]"
      ],
      "metadata": {
        "id": "1asCZDn5MO4U"
      },
      "execution_count": null,
      "outputs": []
    },
    {
      "cell_type": "code",
      "source": [
        "mylist[1:3]"
      ],
      "metadata": {
        "id": "DsXDkQTWMRDP"
      },
      "execution_count": null,
      "outputs": []
    },
    {
      "cell_type": "code",
      "source": [
        "mylist[2:]"
      ],
      "metadata": {
        "id": "MCTY4rlCMTJs"
      },
      "execution_count": null,
      "outputs": []
    },
    {
      "cell_type": "code",
      "source": [
        "mylist[:3]"
      ],
      "metadata": {
        "id": "Dc3d7XBlMXC5"
      },
      "execution_count": null,
      "outputs": []
    },
    {
      "cell_type": "code",
      "source": [
        "mylist[0::2]"
      ],
      "metadata": {
        "id": "tCcFrTscMldz"
      },
      "execution_count": null,
      "outputs": []
    },
    {
      "cell_type": "code",
      "source": [
        "mylist[::-1]"
      ],
      "metadata": {
        "id": "qU2EoCbzMn2h"
      },
      "execution_count": null,
      "outputs": []
    },
    {
      "cell_type": "markdown",
      "source": [
        "## Membership operators"
      ],
      "metadata": {
        "id": "1yonkSYlM5v6"
      }
    },
    {
      "cell_type": "code",
      "source": [
        "yourlist = [4, 7]\n",
        "2 in yourlist"
      ],
      "metadata": {
        "id": "gNvQJ_bBNE96"
      },
      "execution_count": null,
      "outputs": []
    },
    {
      "cell_type": "code",
      "source": [
        "2 not in yourlist"
      ],
      "metadata": {
        "id": "a-ejMVFUNJSL"
      },
      "execution_count": null,
      "outputs": []
    },
    {
      "cell_type": "markdown",
      "source": [
        "## Strings as sequences"
      ],
      "metadata": {
        "id": "Xuey8HHCNRYx"
      }
    },
    {
      "cell_type": "code",
      "source": [
        "mylist[2:3]"
      ],
      "metadata": {
        "id": "yKO40KQTM2uH"
      },
      "execution_count": null,
      "outputs": []
    },
    {
      "cell_type": "code",
      "source": [
        "mylist[2]"
      ],
      "metadata": {
        "id": "vgta5wjGM4HP"
      },
      "execution_count": null,
      "outputs": []
    },
    {
      "cell_type": "code",
      "source": [
        "'Neymar' in mylist"
      ],
      "metadata": {
        "id": "lcop_krKG_fR"
      },
      "execution_count": null,
      "outputs": []
    },
    {
      "cell_type": "code",
      "source": [
        "mylist.append('Vinicius')\n",
        "mylist"
      ],
      "metadata": {
        "id": "jGqrvsNmHMdy"
      },
      "execution_count": null,
      "outputs": []
    },
    {
      "cell_type": "markdown",
      "source": [],
      "metadata": {
        "id": "Dk6tfvKQHMQw"
      }
    },
    {
      "cell_type": "markdown",
      "source": [
        "## Ranges"
      ],
      "metadata": {
        "id": "FnS2SC1eNv3I"
      }
    },
    {
      "cell_type": "code",
      "source": [
        "myrange = range(0, 10, 2)\n",
        "list(myrange)"
      ],
      "metadata": {
        "id": "OVykAv9AN0od"
      },
      "execution_count": null,
      "outputs": []
    },
    {
      "cell_type": "code",
      "source": [
        "list(range(5, 12))"
      ],
      "metadata": {
        "id": "qnUUIQf-N6xt"
      },
      "execution_count": null,
      "outputs": []
    },
    {
      "cell_type": "code",
      "source": [
        "list(range(10))"
      ],
      "metadata": {
        "id": "tZ-e4r4ON-cf"
      },
      "execution_count": null,
      "outputs": []
    },
    {
      "cell_type": "markdown",
      "source": [
        "## Other data container types"
      ],
      "metadata": {
        "id": "fu-sqj9KOAAw"
      }
    },
    {
      "cell_type": "code",
      "source": [
        "mytuple = ('Messi', 'Cristiano', 'Neymar', 'Coutinho')"
      ],
      "metadata": {
        "id": "JJgDr_jhOHTg"
      },
      "execution_count": null,
      "outputs": []
    },
    {
      "cell_type": "code",
      "source": [
        "mytuple[-2:]"
      ],
      "metadata": {
        "id": "XxqWv3SAOLcI"
      },
      "execution_count": null,
      "outputs": []
    },
    {
      "cell_type": "code",
      "source": [
        "mydict = {'name': 'Joan', 'gender': 'F', 'age': 32}"
      ],
      "metadata": {
        "id": "rj0gLnWLONW1"
      },
      "execution_count": null,
      "outputs": []
    },
    {
      "cell_type": "code",
      "source": [
        "mydict.keys()"
      ],
      "metadata": {
        "id": "3Y0W04IfOQPw"
      },
      "execution_count": null,
      "outputs": []
    },
    {
      "cell_type": "code",
      "source": [
        "mydict.values()"
      ],
      "metadata": {
        "id": "TiTVNKlnOUu_"
      },
      "execution_count": null,
      "outputs": []
    },
    {
      "cell_type": "code",
      "source": [
        "mydict['name']"
      ],
      "metadata": {
        "id": "8zbhKPcAOWV6"
      },
      "execution_count": null,
      "outputs": []
    },
    {
      "cell_type": "markdown",
      "source": [
        "## Mutability"
      ],
      "metadata": {
        "id": "BSTYQ5rtHkge"
      }
    },
    {
      "cell_type": "code",
      "source": [
        "mylist[1] = 'Benzema'\n",
        "mylist"
      ],
      "metadata": {
        "id": "JD3KfwbcHrz4"
      },
      "execution_count": null,
      "outputs": []
    },
    {
      "cell_type": "code",
      "source": [
        "mydict['job'] = 'Engineer'\n",
        "mydict"
      ],
      "metadata": {
        "id": "iKGVLRahHyM7"
      },
      "execution_count": null,
      "outputs": []
    },
    {
      "cell_type": "code",
      "source": [
        "mydict['name'] = 'Martha'\n",
        "mydict"
      ],
      "metadata": {
        "id": "tMPVQRB_H3bd"
      },
      "execution_count": null,
      "outputs": []
    }
  ]
}